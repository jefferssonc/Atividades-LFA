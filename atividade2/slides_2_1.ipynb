{
  "cells": [
    {
      "cell_type": "markdown",
      "metadata": {
        "id": "deDaAH-1WYn8"
      },
      "source": [
        "## Slide 11 - Conjunto de Cadeias"
      ]
    },
    {
      "cell_type": "markdown",
      "metadata": {
        "id": "w-h8aHtJWYn-"
      },
      "source": [
        "### Questão 1  \n",
        "Seja $\\Sigma = \\{'a', 'b'\\}$ um alfabeto. Escreva um programa em Python para gerar o conjunto $\\Sigma^n$, ou seja, que contém todas as possíveis cadeias de caracteres formadas pelos elementos de $\\Sigma$ de comprimento n"
      ]
    },
    {
      "cell_type": "code",
      "execution_count": 1,
      "metadata": {
        "colab": {
          "base_uri": "https://localhost:8080/",
          "height": 0
        },
        "id": "4ScMcIP-WYoA",
        "outputId": "8d66ea64-94db-4b3e-ad9d-ea6fa6d763ab"
      },
      "outputs": [
        {
          "output_type": "stream",
          "name": "stdout",
          "text": [
            "Sigma^3 =\n",
            "['aaa', 'aab', 'aba', 'abb', 'baa', 'bab', 'bba', 'bbb']\n"
          ]
        }
      ],
      "source": [
        "# Definindo o alfabeto\n",
        "sigma = ['a', 'b']\n",
        "\n",
        "# Função para gerar cadeias do alfabeto de um comprimento específico\n",
        "def generate_specific_chains(alfabeto, n):\n",
        "    if n == 0:\n",
        "        return ['']\n",
        "    if n == 1:\n",
        "        return alfabeto\n",
        "\n",
        "    # Iniciar com cadeias de comprimento 1\n",
        "    prev_chains = alfabeto.copy()\n",
        "    for _ in range(1, n): # 2\n",
        "        new_chains = []\n",
        "        # []\n",
        "        for chain in prev_chains: #[a, b]\n",
        "            # a\n",
        "            for character in alfabeto: # [a, b]\n",
        "                # a\n",
        "                new_chains.append(chain + character)\n",
        "        prev_chains = new_chains\n",
        "\n",
        "    return new_chains\n",
        "\n",
        "# Exemplo de uso da função para gerar Sigma^2\n",
        "n = 3\n",
        "sigma = generate_specific_chains(sigma, n)\n",
        "print(f\"Sigma^{n} =\")\n",
        "print(sigma)\n"
      ]
    },
    {
      "cell_type": "markdown",
      "metadata": {
        "id": "XGdfJEPMWYoC"
      },
      "source": [
        "**Explicação**\n",
        "- A função `generate_specific_chains` cria cadeias de comprimento `n` usando o alfabeto fornecido.\n",
        "- Começa com o alfabeto como as cadeias de comprimento `1` e, em seguida, constrói cadeias de comprimento maior ao concatenar cada caractere do alfabeto a cada cadeia existente.\n",
        "- Este processo é repetido `n` vezes para alcançar o comprimento desejado.\n",
        "- Para `n = 2` e o alfabeto `{'a', 'b'}`, a função produzirá as cadeias `'aa'`, `'ab'`, `'ba'`, e `'bb'`."
      ]
    },
    {
      "cell_type": "markdown",
      "metadata": {
        "id": "5FEh7QkwWYoC"
      },
      "source": [
        "### Questão 2  \n",
        "Seja $\\Sigma = \\{'a', 'b'\\}$ um alfabeto. Escreva um programa em Python para gerar o conjunto $\\Sigma^*$ até $\\Sigma^3$, que contém todas as possíveis cadeias de caracteres formadas pelos elementos de $\\Sigma$ até o comprimento 3."
      ]
    },
    {
      "cell_type": "markdown",
      "metadata": {
        "id": "i1tUjepAWYoD"
      },
      "source": [
        "#### Resolução 1  \n",
        "Podemos chamar a função acima para cada sigma e irmos armazenando os resultados em um dicionário. Ao final, imprimir o dicionário.\n",
        "  "
      ]
    },
    {
      "cell_type": "code",
      "execution_count": 3,
      "metadata": {
        "colab": {
          "base_uri": "https://localhost:8080/",
          "height": 0
        },
        "id": "SGoKqBM0WYoD",
        "outputId": "cdd8e82d-d714-4691-a46e-aca829d20875"
      },
      "outputs": [
        {
          "output_type": "stream",
          "name": "stdout",
          "text": [
            "Sigma^1 = ['a', 'b']\n",
            "Sigma^2 = ['aa', 'ab', 'ba', 'bb']\n",
            "Sigma^3 = ['aaa', 'aab', 'aba', 'abb', 'baa', 'bab', 'bba', 'bbb']\n",
            "{0: [''], 1: ['a', 'b'], 2: ['aa', 'ab', 'ba', 'bb'], 3: ['aaa', 'aab', 'aba', 'abb', 'baa', 'bab', 'bba', 'bbb']}\n"
          ]
        }
      ],
      "source": [
        "# Definindo o alfabeto\n",
        "sigma = ['a', 'b']\n",
        "\n",
        "# Função para gerar cadeias de um comprimento específico\n",
        "def generate_specific_chains(alfabeto, n):\n",
        "    if n == 0:\n",
        "        return ['']\n",
        "    if n == 1:\n",
        "        return alfabeto.copy()\n",
        "\n",
        "    prev_chains = alfabeto.copy()\n",
        "    for _ in range(1, n):\n",
        "        new_chains = []\n",
        "        for chain in prev_chains:\n",
        "            for character in alfabeto:\n",
        "                new_chains.append(chain + character)\n",
        "        prev_chains = new_chains\n",
        "\n",
        "    return new_chains\n",
        "\n",
        "# Gerar e exibir os resultados de Sigma^1 a Sigma^3\n",
        "sigma_dict = {}\n",
        "\n",
        "for i in range(0, 4):  # de 0 até 3\n",
        "    cadeias = generate_specific_chains(sigma, i)\n",
        "    sigma_dict[i] = cadeias\n",
        "    if i > 0:\n",
        "        print(f\"Sigma^{i} =\", cadeias)\n",
        "\n",
        "# Exibir o dicionário completo incluindo Sigma^0\n",
        "print(sigma_dict)\n"
      ]
    },
    {
      "cell_type": "markdown",
      "metadata": {
        "id": "Z2i291zGWYoD"
      },
      "source": [
        "#### Resolução 2  \n",
        "Podemos resolver usando a função `itertools.product()` do python. `itertools.product` é uma função da biblioteca itertools no Python que é usada para realizar o `produto cartesiano` entre iteráveis. Quando você passa um `iterável` (como uma lista) e um `argumento repeat=n`, itertools.product gera todas as combinações possíveis dos elementos do iterável com eles mesmos, repetidos `n` vezes. Cada combinação é retornada como uma tupla de elementos."
      ]
    },
    {
      "cell_type": "code",
      "execution_count": 2,
      "metadata": {
        "colab": {
          "base_uri": "https://localhost:8080/",
          "height": 0
        },
        "id": "H25nYCMvWYoE",
        "outputId": "ef681527-433e-4aa2-dfba-08ab7d5e5d61"
      },
      "outputs": [
        {
          "output_type": "stream",
          "name": "stdout",
          "text": [
            "Cadeias de caracteres formadas pelo alfabeto até o comprimento 3:\n",
            "\n",
            "a\n",
            "b\n",
            "aa\n",
            "ab\n",
            "ba\n",
            "bb\n",
            "aaa\n",
            "aab\n",
            "aba\n",
            "abb\n",
            "baa\n",
            "bab\n",
            "bba\n",
            "bbb\n"
          ]
        }
      ],
      "source": [
        "import itertools\n",
        "\n",
        "# Definindo o alfabeto\n",
        "sigma = ['a', 'b']\n",
        "\n",
        "# Função para gerar cadeias do alfabeto até um comprimento máximo\n",
        "def generate_chains(alfabeto, max_length):\n",
        "    chains = ['']  # Inicia com a cadeia vazia (para Sigma^0)\n",
        "    for length in range(1, max_length + 1):\n",
        "        for element in itertools.product(alfabeto, repeat=length):\n",
        "            chains.append(''.join(element))\n",
        "    return chains\n",
        "\n",
        "# Gerando e exibindo cadeias até o comprimento 3\n",
        "sigma_star = generate_chains(sigma, 3)\n",
        "print(\"Cadeias de caracteres formadas pelo alfabeto até o comprimento 3:\")\n",
        "for chain in sigma_star:\n",
        "    print(chain)"
      ]
    },
    {
      "cell_type": "markdown",
      "metadata": {
        "id": "7RCnXMfUWYoE"
      },
      "source": [
        "O que itertools.product faz?\n",
        "Por exemplo, se você tem um alfabeto $\\Sigma = \\{a, b\\}$ e usa itertools.product(sigma, repeat=2), o resultado será todas as possíveis combinações de 2 elementos, que são:\n",
        "\n",
        "('a', 'a')\n",
        "('a', 'b')\n",
        "('b', 'a')\n",
        "('b', 'b')\n",
        "Isso é equivalente ao produto cartesiano $\\Sigma \\times \\Sigma$."
      ]
    },
    {
      "cell_type": "markdown",
      "metadata": {
        "id": "XFaueiKJWYoE"
      },
      "source": [
        "#### Resolução 3  \n",
        "Podemos fazer um código que faça uma geração direta de todas as cadeias. Mas essa resolução adiciona mais complexidade.\n"
      ]
    },
    {
      "cell_type": "code",
      "execution_count": null,
      "metadata": {
        "id": "b4CVdVTGWYoF",
        "outputId": "7fd6c378-2811-4b6e-dc85-66d15d59457a"
      },
      "outputs": [
        {
          "name": "stdout",
          "output_type": "stream",
          "text": [
            "Início: Sigma^0 = {''}\n",
            "\n",
            "Gerando Sigma^1 (comprimento 1):\n",
            "Adicionando 'a' à lista de cadeias\n",
            "Adicionando 'b' à lista de cadeias\n",
            "Sigma^1 = ['a', 'b']\n",
            "\n",
            "Gerando Sigma^2 (comprimento 2):\n",
            "Adicionando 'a' à lista de cadeias\n",
            "Adicionando 'b' à lista de cadeias\n",
            "Adicionando 'aa' à lista de cadeias\n",
            "Adicionando 'ab' à lista de cadeias\n",
            "Adicionando 'ba' à lista de cadeias\n",
            "Adicionando 'bb' à lista de cadeias\n",
            "Sigma^2 = ['a', 'b', 'aa', 'ab', 'ba', 'bb']\n",
            "\n",
            "Gerando Sigma^3 (comprimento 3):\n",
            "Adicionando 'a' à lista de cadeias\n",
            "Adicionando 'b' à lista de cadeias\n",
            "Adicionando 'aa' à lista de cadeias\n",
            "Adicionando 'ab' à lista de cadeias\n",
            "Adicionando 'ba' à lista de cadeias\n",
            "Adicionando 'bb' à lista de cadeias\n",
            "Adicionando 'aa' à lista de cadeias\n",
            "Adicionando 'ab' à lista de cadeias\n",
            "Adicionando 'ba' à lista de cadeias\n",
            "Adicionando 'bb' à lista de cadeias\n",
            "Adicionando 'aaa' à lista de cadeias\n",
            "Adicionando 'aab' à lista de cadeias\n",
            "Adicionando 'aba' à lista de cadeias\n",
            "Adicionando 'abb' à lista de cadeias\n",
            "Adicionando 'baa' à lista de cadeias\n",
            "Adicionando 'bab' à lista de cadeias\n",
            "Adicionando 'bba' à lista de cadeias\n",
            "Adicionando 'bbb' à lista de cadeias\n",
            "Sigma^3 = ['a', 'b', 'aa', 'ab', 'ba', 'bb', 'aa', 'ab', 'ba', 'bb', 'aaa', 'aab', 'aba', 'abb', 'baa', 'bab', 'bba', 'bbb']\n",
            "\n",
            "Cadeias de caracteres formadas pelo alfabeto até o comprimento 3 (Sigma^*):\n",
            "['', 'a', 'b', 'a', 'b', 'aa', 'ab', 'ba', 'bb', 'a', 'b', 'aa', 'ab', 'ba', 'bb', 'aa', 'ab', 'ba', 'bb', 'aaa', 'aab', 'aba', 'abb', 'baa', 'bab', 'bba', 'bbb']\n"
          ]
        }
      ],
      "source": []
    },
    {
      "cell_type": "markdown",
      "metadata": {
        "id": "Kv4jD1zDWYoF"
      },
      "source": [
        "Parece que há uma confusão está no loop que gera as novas cadeias, pois algumas cadeias estão sendo  repetidas. Dessa forma, precisamos garantir que cada conjunto de cadeias de um determinado comprimento seja gerado corretamente antes de prosseguir para o próximo comprimento. Vamos ajustar o código para corrigir isso:"
      ]
    },
    {
      "cell_type": "code",
      "execution_count": null,
      "metadata": {
        "id": "LQjxepqeWYoF",
        "outputId": "31f5c637-a1c2-414d-821a-c6796680eefd"
      },
      "outputs": [
        {
          "name": "stdout",
          "output_type": "stream",
          "text": [
            "Início: Sigma^0 = {''}\n",
            "\n",
            "Gerando Sigma^1 (comprimento 1):\n",
            "Adicionando 'a' à lista de cadeias\n",
            "Adicionando 'b' à lista de cadeias\n",
            "Sigma^1 = ['a', 'b']\n",
            "\n",
            "Gerando Sigma^2 (comprimento 2):\n",
            "Adicionando 'aa' à lista de cadeias\n",
            "Adicionando 'ab' à lista de cadeias\n",
            "Adicionando 'ba' à lista de cadeias\n",
            "Adicionando 'bb' à lista de cadeias\n",
            "Sigma^2 = ['aa', 'ab', 'ba', 'bb']\n",
            "\n",
            "Gerando Sigma^3 (comprimento 3):\n",
            "Adicionando 'aaa' à lista de cadeias\n",
            "Adicionando 'aab' à lista de cadeias\n",
            "Adicionando 'aba' à lista de cadeias\n",
            "Adicionando 'abb' à lista de cadeias\n",
            "Adicionando 'baa' à lista de cadeias\n",
            "Adicionando 'bab' à lista de cadeias\n",
            "Adicionando 'bba' à lista de cadeias\n",
            "Adicionando 'bbb' à lista de cadeias\n",
            "Sigma^3 = ['aaa', 'aab', 'aba', 'abb', 'baa', 'bab', 'bba', 'bbb']\n",
            "\n",
            "Cadeias de caracteres formadas pelo alfabeto até o comprimento 3 (Sigma^*):\n",
            "['', 'a', 'b', 'aa', 'ab', 'ba', 'bb', 'aaa', 'aab', 'aba', 'abb', 'baa', 'bab', 'bba', 'bbb']\n"
          ]
        }
      ],
      "source": []
    },
    {
      "cell_type": "markdown",
      "metadata": {
        "id": "VfrXhgumWYoF"
      },
      "source": [
        "Neste código, ajustamos a lógica para que previous_chains armazene as cadeias do comprimento imediatamente anterior, evitando a repetição de cadeias ao gerar as de comprimento superior. Agora, para cada novo comprimento, o programa concatena caracteres apenas às cadeias do comprimento anterior, o que deve eliminar as repetições e erros na geração das cadeias. Podemos ainda usar uma estrutura de dados chamada `set`. Essa estrutura de dados evita de guardarmos elementos repetidos, mesmo que tentemos fazer. Veja como ficaria simples."
      ]
    },
    {
      "cell_type": "code",
      "execution_count": null,
      "metadata": {
        "id": "g2I9i8bDWYoF",
        "outputId": "0b68f5c1-f8db-4cc6-dd71-0c2dd048d7fb"
      },
      "outputs": [
        {
          "name": "stdout",
          "output_type": "stream",
          "text": [
            "Início: Sigma^0 = {''}\n",
            "\n",
            "Gerando Sigma^1 (comprimento 1):\n",
            "Adicionando 'a' à lista de cadeias\n",
            "Adicionando 'b' à lista de cadeias\n",
            "Sigma^1 = ['a', 'b']\n",
            "\n",
            "Gerando Sigma^2 (comprimento 2):\n",
            "Adicionando 'a' à lista de cadeias\n",
            "Adicionando 'b' à lista de cadeias\n",
            "Adicionando 'aa' à lista de cadeias\n",
            "Adicionando 'ab' à lista de cadeias\n",
            "Adicionando 'ba' à lista de cadeias\n",
            "Adicionando 'bb' à lista de cadeias\n",
            "Sigma^2 = ['bb', 'ba', 'aa', 'b', 'ab', 'a']\n",
            "\n",
            "Gerando Sigma^3 (comprimento 3):\n",
            "Adicionando 'a' à lista de cadeias\n",
            "Adicionando 'b' à lista de cadeias\n",
            "Adicionando 'bba' à lista de cadeias\n",
            "Adicionando 'bbb' à lista de cadeias\n",
            "Adicionando 'baa' à lista de cadeias\n",
            "Adicionando 'bab' à lista de cadeias\n",
            "Adicionando 'aaa' à lista de cadeias\n",
            "Adicionando 'aab' à lista de cadeias\n",
            "Adicionando 'ba' à lista de cadeias\n",
            "Adicionando 'bb' à lista de cadeias\n",
            "Adicionando 'aba' à lista de cadeias\n",
            "Adicionando 'abb' à lista de cadeias\n",
            "Adicionando 'aa' à lista de cadeias\n",
            "Adicionando 'ab' à lista de cadeias\n",
            "Sigma^3 = ['baa', 'bb', 'abb', 'ba', 'bba', 'aa', 'b', 'aab', 'bbb', 'ab', 'aba', 'aaa', 'bab', 'a']\n",
            "\n",
            "Cadeias de caracteres formadas pelo alfabeto até o comprimento 3 (Sigma^*):\n",
            "['', 'a', 'aa', 'aaa', 'aab', 'ab', 'aba', 'abb', 'b', 'ba', 'baa', 'bab', 'bb', 'bba', 'bbb']\n"
          ]
        }
      ],
      "source": []
    },
    {
      "cell_type": "markdown",
      "metadata": {
        "id": "zJ0HybZCWYoG"
      },
      "source": [
        "## Slide 18 - Operações e Propriedades"
      ]
    },
    {
      "cell_type": "markdown",
      "metadata": {
        "id": "dBe2XPPSWYoG"
      },
      "source": [
        "### Questão 3  \n",
        "Considere os conjuntos de strings $L = \\{ \"001\", \"10\", \"111\" \\}$ e $M = \\{ \\epsilon, \"001\" \\}$, onde $\\epsilon$ representa a string vazia. Escreva um programa em Python que calcule a concatenação de $L$ e $M$, representada por $LM$. $LM$ é o conjunto de todas as strings formadas pela concatenação de cada elemento em $L$ com cada elemento em $M$."
      ]
    },
    {
      "cell_type": "markdown",
      "metadata": {
        "id": "h_NG6ySYWYoG"
      },
      "source": [
        "#### Resolução 1  \n",
        "Usando `set`"
      ]
    },
    {
      "cell_type": "code",
      "execution_count": null,
      "metadata": {
        "id": "bkP3pxH2WYoG",
        "outputId": "de657f3d-a1f6-43c3-806d-f325ec97cee4"
      },
      "outputs": [
        {
          "name": "stdout",
          "output_type": "stream",
          "text": [
            "LM = {'10001', '001', '10', '111', '001001', '111001'}\n"
          ]
        }
      ],
      "source": []
    },
    {
      "cell_type": "markdown",
      "metadata": {
        "id": "Q2UbWF7nWYoG"
      },
      "source": [
        "**Explicação**\n",
        "- `L` e `M` são definidos como conjuntos de strings.\n",
        "- A função `concatenate_sets` recebe dois conjuntos, `set1` e `set2`, e itera sobre cada elemento de set1 e set2 para concatenar os elementos correspondentes, formando assim um novo conjunto que contém todos os resultados da concatenação.\n",
        "- A concatenação de `L` e `M (LM)` é então calculada usando essa função.\n",
        "- O resultado, `LM`, é impresso e deve conter todas as strings resultantes da concatenação de cada string em `L` com cada string em `M`.\n",
        "- No exemplo dado, `LM` incluirá as strings `\"001\", \"001001\", \"10\", \"10001\", \"111\", e \"111001\"`, correspondendo à concatenação de todos os elementos de `L` com todos os elementos de `M`."
      ]
    },
    {
      "cell_type": "markdown",
      "metadata": {
        "id": "tq0czQUlWYoG"
      },
      "source": [
        "#### Resolução 2\n",
        "Usando `itertools.product` para realizar o produto cartesiano"
      ]
    },
    {
      "cell_type": "code",
      "execution_count": null,
      "metadata": {
        "id": "liBqilSJWYoH",
        "outputId": "f608bbea-1f65-4c11-dcc0-80c310c4b490"
      },
      "outputs": [
        {
          "name": "stdout",
          "output_type": "stream",
          "text": [
            "LM = {'10001', '001', '10', '111', '001001', '111001'}\n"
          ]
        }
      ],
      "source": []
    },
    {
      "cell_type": "markdown",
      "metadata": {
        "id": "MMdjS1UzWYoH"
      },
      "source": [
        "- **`L` e `M`** são definidos como conjuntos de strings, com `M` contendo a string vazia $\\epsilon$ e \"001\".\n",
        "- Utilizamos a função `product` do módulo `itertools` para criar o produto cartesiano de `L` e `M`. Isso nos dá todos os pares possíveis de elementos entre `L` e `M`.\n",
        "- A compreensão de conjunto `{''.join(pair) for pair in itertools.product(L, M)}` concatena cada par de strings formando o conjunto `LM`.\n",
        "- `LM` contém todas as strings resultantes da concatenação de elementos de `L` com elementos de `M`, como \"001\", \"001001\", \"10\", \"10001\", \"111\", e \"111001\".\n"
      ]
    },
    {
      "cell_type": "markdown",
      "metadata": {
        "id": "sb7Z5UOfWYoH"
      },
      "source": [
        "## Slide 19 - Fechamento reflexivo e transitivo"
      ]
    },
    {
      "cell_type": "markdown",
      "metadata": {
        "id": "8dipXnLHWYoH"
      },
      "source": [
        "### Linguagem"
      ]
    },
    {
      "cell_type": "markdown",
      "metadata": {
        "id": "stLcaxR-WYoH"
      },
      "source": [
        "O **fechamento reflexivo e transitivo** é um conceito da teoria de linguagens formais e autômatos, geralmente aplicado a conjuntos de cadeias ou relações. Ou seja, dada uma linguagem $L$, é basicamente uma maneira de obter todas as possíveis cadeias (sequências de símbolos) que você pode formar usando as cadeias originais em $L$, quantas vezes quiser, incluindo a possibilidade de não usar nenhuma cadeia (que é representada pela cadeia vazia $ϵ$). Vamos explorar esse conceito em detalhes e compará-lo com a reflexividade e transitividade em funções ou relações.\n",
        "\n",
        "**Fechamento Reflexivo**\n",
        "- **Linguagens Formais**: No contexto de linguagens formais, o fechamento reflexivo de uma linguagem $L$ permite a inclusão da cadeia vazia $\\epsilon$. Isso significa que, independentemente de não selecionar nenhum elemento de $L$, a cadeia vazia é considerada uma concatenação válida de zero elementos de $L$.\n",
        "- **Relações**: Em teoria de relações, uma relação é considerada reflexiva se cada elemento estiver relacionado a si mesmo. Por exemplo, na relação de igualdade, cada número é igual a ele mesmo.\n",
        "\n",
        "**Fechamento Transitivo**\n",
        "- **Linguagens Formais**: O fechamento transitivo de uma linguagem $L$ envolve criar novas cadeias por meio da concatenação repetida de elementos de $L$. Se $L = \\{a, b\\}$, então $L^*$ (o fechamento transitivo de $L$) incluiria cadeias como $aa$, $ab$, $ba$, $bb$, $aaa$, e assim por diante, abrangendo todas as concatenações possíveis dos elementos de $L$.\n",
        "- **Relações**: Na teoria de relações, transitividade implica que se um elemento $a$ está relacionado a um elemento $b$, e $b$ está relacionado a um elemento $c$, então $a$ deve estar relacionado a $c$. Isso é diferente da concatenação em linguagens, que se concentra na combinação de cadeias.\n",
        "\n",
        "**Diferenças e Semelhanças**\n",
        "- **Operação vs. Propriedade**: O fechamento reflexivo e transitivo em linguagens é uma operação que gera um conjunto novo a partir do original, enquanto reflexividade e transitividade em relações são propriedades que descrevem como os elementos de um conjunto estão interconectados.\n",
        "- **Resultado vs. Condição**: No fechamento reflexivo e transitivo, estamos interessados no resultado (o conjunto de todas as cadeias possíveis), enquanto em reflexividade e transitividade, o foco está em se a relação satisfaz certas condições.\n",
        "- **Completude**: Ambos os conceitos lidam com a ideia de completude. No fechamento reflexivo e transitivo, trata-se da completude das cadeias que podem ser formadas; nas relações reflexivas e transitivas, é sobre a completude das conexões dentro do conjunto.\n",
        "\n",
        "Essas explicações ilustram como o fechamento reflexivo e transitivo expande um conjunto de cadeias em linguagens formais, enquanto a reflexividade e a transitividade em relações descrevem as conexões dentro de um conjunto."
      ]
    },
    {
      "cell_type": "markdown",
      "metadata": {
        "id": "AcMVdRpDWYoI"
      },
      "source": [
        "Se você tem um conjunto $L$ com algumas cadeias de caracteres, então $L∗$ incluirá:\n",
        "- A cadeia vazia $ϵ$\n",
        "- Todas as cadeias em $L$ (isso é $L^1$)\n",
        "- Todas as cadeias que podem ser formadas concatenando duas cadeias em $L$ (isso é $L^2$)\n",
        "E assim por diante, para 3 cadeias, 4 cadeias, etc.\n"
      ]
    },
    {
      "cell_type": "markdown",
      "metadata": {
        "id": "ARW_1SGBWYoI"
      },
      "source": [
        "#### Questão 4  \n",
        "Seja $L$ o conjunto de todas as cadeias formadas apenas pelo símbolo '0'. Calcule $L^*$, o fechamento reflexivo e transitivo de $L$, o que representa todas as cadeias que podem ser formadas concatenando zero ou mais vezes as cadeias em $L$."
      ]
    },
    {
      "cell_type": "code",
      "execution_count": null,
      "metadata": {
        "id": "eubwdfj_WYoI",
        "outputId": "dce60f57-6b36-4f1c-ee21-6c6ca1e08f8b"
      },
      "outputs": [
        {
          "name": "stdout",
          "output_type": "stream",
          "text": [
            "Início: L^0 = {''}\n",
            "Adicionando 'bab' à L^1\n",
            "Adicionando 'aba' à L^1\n",
            "L^1 = ['', 'aba', 'bab']\n",
            "Adicionando 'ababab' à L^2\n",
            "Adicionando 'abaaba' à L^2\n",
            "Adicionando 'babbab' à L^2\n",
            "Adicionando 'bababa' à L^2\n",
            "L^2 = ['', 'aba', 'abaaba', 'ababab', 'bab', 'bababa', 'babbab']\n",
            "Adicionando 'babbabbab' à L^3\n",
            "Adicionando 'babbababa' à L^3\n",
            "Adicionando 'abaababab' à L^3\n",
            "Adicionando 'abaabaaba' à L^3\n",
            "Adicionando 'babababab' à L^3\n",
            "Adicionando 'bababaaba' à L^3\n",
            "Adicionando 'abababbab' à L^3\n",
            "Adicionando 'ababababa' à L^3\n",
            "L^3 = ['', 'aba', 'abaaba', 'abaabaaba', 'abaababab', 'ababab', 'ababababa', 'abababbab', 'bab', 'bababa', 'bababaaba', 'babababab', 'babbab', 'babbababa', 'babbabbab']\n",
            "Adicionando 'abaabaababab' à L^4\n",
            "Adicionando 'abaabaabaaba' à L^4\n",
            "Adicionando 'abaabababbab' à L^4\n",
            "Adicionando 'abaababababa' à L^4\n",
            "Adicionando 'babbabababab' à L^4\n",
            "Adicionando 'babbababaaba' à L^4\n",
            "Adicionando 'bababaababab' à L^4\n",
            "Adicionando 'bababaabaaba' à L^4\n",
            "Adicionando 'bababababbab' à L^4\n",
            "Adicionando 'babababababa' à L^4\n",
            "Adicionando 'abababababab' à L^4\n",
            "Adicionando 'ababababaaba' à L^4\n",
            "Adicionando 'babbabbabbab' à L^4\n",
            "Adicionando 'babbabbababa' à L^4\n",
            "Adicionando 'abababbabbab' à L^4\n",
            "Adicionando 'abababbababa' à L^4\n",
            "L^4 = ['', 'aba', 'abaaba', 'abaabaaba', 'abaabaabaaba', 'abaabaababab', 'abaababab', 'abaababababa', 'abaabababbab', 'ababab', 'ababababa', 'ababababaaba', 'abababababab', 'abababbab', 'abababbababa', 'abababbabbab', 'bab', 'bababa', 'bababaaba', 'bababaabaaba', 'bababaababab', 'babababab', 'babababababa', 'bababababbab', 'babbab', 'babbababa', 'babbababaaba', 'babbabababab', 'babbabbab', 'babbabbababa', 'babbabbabbab']\n",
            "Adicionando 'babbabbabbabbab' à L^5\n",
            "Adicionando 'babbabbabbababa' à L^5\n",
            "Adicionando 'abaabaabababbab' à L^5\n",
            "Adicionando 'abaabaababababa' à L^5\n",
            "Adicionando 'babbabbabababab' à L^5\n",
            "Adicionando 'babbabbababaaba' à L^5\n",
            "Adicionando 'bababaabaababab' à L^5\n",
            "Adicionando 'bababaabaabaaba' à L^5\n",
            "Adicionando 'abababbabababab' à L^5\n",
            "Adicionando 'abababbababaaba' à L^5\n",
            "Adicionando 'abaabaabaababab' à L^5\n",
            "Adicionando 'abaabaabaabaaba' à L^5\n",
            "Adicionando 'abaabababababab' à L^5\n",
            "Adicionando 'abaababababaaba' à L^5\n",
            "Adicionando 'ababababababbab' à L^5\n",
            "Adicionando 'abababababababa' à L^5\n",
            "Adicionando 'bababababbabbab' à L^5\n",
            "Adicionando 'bababababbababa' à L^5\n",
            "Adicionando 'bababaabababbab' à L^5\n",
            "Adicionando 'bababaababababa' à L^5\n",
            "Adicionando 'babbababaababab' à L^5\n",
            "Adicionando 'babbababaabaaba' à L^5\n",
            "Adicionando 'ababababaababab' à L^5\n",
            "Adicionando 'ababababaabaaba' à L^5\n",
            "Adicionando 'babbababababbab' à L^5\n",
            "Adicionando 'babbabababababa' à L^5\n",
            "Adicionando 'bababababababab' à L^5\n",
            "Adicionando 'babababababaaba' à L^5\n",
            "Adicionando 'abababbabbabbab' à L^5\n",
            "Adicionando 'abababbabbababa' à L^5\n",
            "Adicionando 'abaabababbabbab' à L^5\n",
            "Adicionando 'abaabababbababa' à L^5\n",
            "L^5 = ['', 'aba', 'abaaba', 'abaabaaba', 'abaabaabaaba', 'abaabaabaabaaba', 'abaabaabaababab', 'abaabaababab', 'abaabaababababa', 'abaabaabababbab', 'abaababab', 'abaababababa', 'abaababababaaba', 'abaabababababab', 'abaabababbab', 'abaabababbababa', 'abaabababbabbab', 'ababab', 'ababababa', 'ababababaaba', 'ababababaabaaba', 'ababababaababab', 'abababababab', 'abababababababa', 'ababababababbab', 'abababbab', 'abababbababa', 'abababbababaaba', 'abababbabababab', 'abababbabbab', 'abababbabbababa', 'abababbabbabbab', 'bab', 'bababa', 'bababaaba', 'bababaabaaba', 'bababaabaabaaba', 'bababaabaababab', 'bababaababab', 'bababaababababa', 'bababaabababbab', 'babababab', 'babababababa', 'babababababaaba', 'bababababababab', 'bababababbab', 'bababababbababa', 'bababababbabbab', 'babbab', 'babbababa', 'babbababaaba', 'babbababaabaaba', 'babbababaababab', 'babbabababab', 'babbabababababa', 'babbababababbab', 'babbabbab', 'babbabbababa', 'babbabbababaaba', 'babbabbabababab', 'babbabbabbab', 'babbabbabbababa', 'babbabbabbabbab']\n",
            "\n",
            "L* = ['', 'aba', 'abaaba', 'abaabaaba', 'abaabaabaaba', 'abaabaabaabaaba', 'abaabaabaababab', 'abaabaababab', 'abaabaababababa', 'abaabaabababbab', 'abaababab', 'abaababababa', 'abaababababaaba', 'abaabababababab', 'abaabababbab', 'abaabababbababa', 'abaabababbabbab', 'ababab', 'ababababa', 'ababababaaba', 'ababababaabaaba', 'ababababaababab', 'abababababab', 'abababababababa', 'ababababababbab', 'abababbab', 'abababbababa', 'abababbababaaba', 'abababbabababab', 'abababbabbab', 'abababbabbababa', 'abababbabbabbab', 'bab', 'bababa', 'bababaaba', 'bababaabaaba', 'bababaabaabaaba', 'bababaabaababab', 'bababaababab', 'bababaababababa', 'bababaabababbab', 'babababab', 'babababababa', 'babababababaaba', 'bababababababab', 'bababababbab', 'bababababbababa', 'bababababbabbab', 'babbab', 'babbababa', 'babbababaaba', 'babbababaabaaba', 'babbababaababab', 'babbabababab', 'babbabababababa', 'babbababababbab', 'babbabbab', 'babbabbababa', 'babbabbababaaba', 'babbabbabababab', 'babbabbabbab', 'babbabbabbababa', 'babbabbabbabbab']\n"
          ]
        }
      ],
      "source": [
        "# Definindo a linguagem L\n",
        "L = {'aba', 'bab'}\n",
        "\n",
        "# Função para calcular o fechamento reflexivo e transitivo de L\n",
        "def reflexive_transitive_closure(language, max_length=5):\n",
        "    closure = {''}\n",
        "    print(\"Início: L^0 = {''}\")\n",
        "\n",
        "    for i in range(1, max_length + 1):\n",
        "\n",
        "        if not new_elements:\n",
        "            print(f\"Nenhum novo elemento adicionado para L^{i}\")\n",
        "            break\n",
        "\n",
        "\n",
        "        print(f\"L^{i} = {sorted(closure)}\")\n",
        "\n",
        "    return closure\n",
        "L_star = reflexive_transitive_closure(L)\n",
        "print(\"\\nL* =\", sorted(L_star))\n",
        "\n",
        "\"\"\"\n",
        "Saida esperada:\n",
        "Início: L^0 = {''}\n",
        "Adicionando 'bab' à L^1\n",
        "Adicionando 'aba' à L^1\n",
        "L^1 = ['', 'aba', 'bab']\n",
        "Adicionando 'ababab' à L^2\n",
        "Adicionando 'abaaba' à L^2\n",
        "Adicionando 'babbab' à L^2\n",
        "Adicionando 'bababa' à L^2\n",
        "L^2 = ['', 'aba', 'abaaba', 'ababab', 'bab', 'bababa', 'babbab']\n",
        "Adicionando 'babbabbab' à L^3\n",
        "Adicionando 'babbababa' à L^3\n",
        "Adicionando 'abaababab' à L^3\n",
        "Adicionando 'abaabaaba' à L^3\n",
        "Adicionando 'babababab' à L^3\n",
        "Adicionando 'bababaaba' à L^3\n",
        "Adicionando 'abababbab' à L^3\n",
        "Adicionando 'ababababa' à L^3\n",
        "L^3 = ['', 'aba', 'abaaba', 'abaabaaba', 'abaababab', 'ababab', 'ababababa', 'abababbab', 'bab', 'bababa', 'bababaaba', 'babababab', 'babbab', 'babbababa', 'babbabbab']\n",
        "Adicionando 'abaabaababab' à L^4\n",
        "Adicionando 'abaabaabaaba' à L^4\n",
        "Adicionando 'abaabababbab' à L^4\n",
        "Adicionando 'abaababababa' à L^4\n",
        "Adicionando 'babbabababab' à L^4\n",
        "Adicionando 'babbababaaba' à L^4\n",
        "Adicionando 'bababaababab' à L^4\n",
        "Adicionando 'bababaabaaba' à L^4\n",
        "Adicionando 'bababababbab' à L^4\n",
        "Adicionando 'babababababa' à L^4\n",
        "Adicionando 'abababababab' à L^4\n",
        "Adicionando 'ababababaaba' à L^4\n",
        "Adicionando 'babbabbabbab' à L^4\n",
        "Adicionando 'babbabbababa' à L^4\n",
        "Adicionando 'abababbabbab' à L^4\n",
        "Adicionando 'abababbababa' à L^4\n",
        "L^4 = ['', 'aba', 'abaaba', 'abaabaaba', 'abaabaabaaba', 'abaabaababab', 'abaababab', 'abaababababa', 'abaabababbab', 'ababab', 'ababababa', 'ababababaaba', 'abababababab', 'abababbab', 'abababbababa', 'abababbabbab', 'bab', 'bababa', 'bababaaba', 'bababaabaaba', 'bababaababab', 'babababab', 'babababababa', 'bababababbab', 'babbab', 'babbababa', 'babbababaaba', 'babbabababab', 'babbabbab', 'babbabbababa', 'babbabbabbab']\n",
        "Adicionando 'babbabbabbabbab' à L^5\n",
        "Adicionando 'babbabbabbababa' à L^5\n",
        "Adicionando 'abaabaabababbab' à L^5\n",
        "Adicionando 'abaabaababababa' à L^5\n",
        "Adicionando 'babbabbabababab' à L^5\n",
        "Adicionando 'babbabbababaaba' à L^5\n",
        "Adicionando 'bababaabaababab' à L^5\n",
        "Adicionando 'bababaabaabaaba' à L^5\n",
        "Adicionando 'abababbabababab' à L^5\n",
        "Adicionando 'abababbababaaba' à L^5\n",
        "Adicionando 'abaabaabaababab' à L^5\n",
        "Adicionando 'abaabaabaabaaba' à L^5\n",
        "Adicionando 'abaabababababab' à L^5\n",
        "Adicionando 'abaababababaaba' à L^5\n",
        "Adicionando 'ababababababbab' à L^5\n",
        "Adicionando 'abababababababa' à L^5\n",
        "Adicionando 'bababababbabbab' à L^5\n",
        "Adicionando 'bababababbababa' à L^5\n",
        "Adicionando 'bababaabababbab' à L^5\n",
        "Adicionando 'bababaababababa' à L^5\n",
        "Adicionando 'babbababaababab' à L^5\n",
        "Adicionando 'babbababaabaaba' à L^5\n",
        "Adicionando 'ababababaababab' à L^5\n",
        "Adicionando 'ababababaabaaba' à L^5\n",
        "Adicionando 'babbababababbab' à L^5\n",
        "Adicionando 'babbabababababa' à L^5\n",
        "Adicionando 'bababababababab' à L^5\n",
        "Adicionando 'babababababaaba' à L^5\n",
        "Adicionando 'abababbabbabbab' à L^5\n",
        "Adicionando 'abababbabbababa' à L^5\n",
        "Adicionando 'abaabababbabbab' à L^5\n",
        "Adicionando 'abaabababbababa' à L^5\n",
        "L^5 = ['', 'aba', 'abaaba', 'abaabaaba', 'abaabaabaaba', 'abaabaabaabaaba', 'abaabaabaababab', 'abaabaababab', 'abaabaababababa', 'abaabaabababbab', 'abaababab', 'abaababababa', 'abaababababaaba', 'abaabababababab', 'abaabababbab', 'abaabababbababa', 'abaabababbabbab', 'ababab', 'ababababa', 'ababababaaba', 'ababababaabaaba', 'ababababaababab', 'abababababab', 'abababababababa', 'ababababababbab', 'abababbab', 'abababbababa', 'abababbababaaba', 'abababbabababab', 'abababbabbab', 'abababbabbababa', 'abababbabbabbab', 'bab', 'bababa', 'bababaaba', 'bababaabaaba', 'bababaabaabaaba', 'bababaabaababab', 'bababaababab', 'bababaababababa', 'bababaabababbab', 'babababab', 'babababababa', 'babababababaaba', 'bababababababab', 'bababababbab', 'bababababbababa', 'bababababbabbab', 'babbab', 'babbababa', 'babbababaaba', 'babbababaabaaba', 'babbababaababab', 'babbabababab', 'babbabababababa', 'babbababababbab', 'babbabbab', 'babbabbababa', 'babbabbababaaba', 'babbabbabababab', 'babbabbabbab', 'babbabbabbababa', 'babbabbabbabbab']\n",
        "\n",
        "L* = ['', 'aba', 'abaaba', 'abaabaaba', 'abaabaabaaba', 'abaabaabaabaaba', 'abaabaabaababab', 'abaabaababab', 'abaabaababababa', 'abaabaabababbab', 'abaababab', 'abaababababa', 'abaababababaaba', 'abaabababababab', 'abaabababbab', 'abaabababbababa', 'abaabababbabbab', 'ababab', 'ababababa', 'ababababaaba', 'ababababaabaaba', 'ababababaababab', 'abababababab', 'abababababababa', 'ababababababbab', 'abababbab', 'abababbababa', 'abababbababaaba', 'abababbabababab', 'abababbabbab', 'abababbabbababa', 'abababbabbabbab', 'bab', 'bababa', 'bababaaba', 'bababaabaaba', 'bababaabaabaaba', 'bababaabaababab', 'bababaababab', 'bababaababababa', 'bababaabababbab', 'babababab', 'babababababa', 'babababababaaba', 'bababababababab', 'bababababbab', 'bababababbababa', 'bababababbabbab', 'babbab', 'babbababa', 'babbababaaba', 'babbababaabaaba', 'babbababaababab', 'babbabababab', 'babbabababababa', 'babbababababbab', 'babbabbab', 'babbabbababa', 'babbabbababaaba', 'babbabbabababab', 'babbabbabbab', 'babbabbabbababa', 'babbabbabbabbab']\n",
        "\"\"\""
      ]
    },
    {
      "cell_type": "markdown",
      "metadata": {
        "id": "CJl-qaOGWYoJ"
      },
      "source": [
        "### Alfabeto"
      ]
    },
    {
      "cell_type": "markdown",
      "metadata": {
        "id": "OdHeVompWYoJ"
      },
      "source": [
        "- **Conjunto Vazio $\\varnothing$**:\n",
        "  - O conjunto vazio $\\varnothing$ contém zero cadeias e representa a menor linguagem possível definida sobre um alfabeto $\\Sigma$. Ele é crucial em teoria da computação porque serve como a base para construir linguagens mais complexas, representando a ideia de \"nada\" ou \"ausência\" em termos de cadeias de caracteres.\n",
        "\n",
        "- **Fechamento Reflexivo e Transitivo $\\Sigma^*$**:\n",
        "  - $\\Sigma^*$ é o conjunto de todas as possíveis cadeias que podem ser formadas com os elementos de $\\Sigma$, incluindo a cadeia vazia $\\epsilon$. Este conjunto é a maior de todas as linguagens que se pode definir sobre $\\Sigma$, pois inclui todas as combinações possíveis de elementos em $\\Sigma$ em qualquer comprimento, começando do zero (cadeia vazia).\n",
        "\n",
        "- **Conjunto Potência $2^{\\Sigma^*}$**:\n",
        "  - $2^{\\Sigma^*}$ representa o conjunto de todos os subconjuntos possíveis formados a partir de $\\Sigma^*$, incluindo o próprio $\\Sigma^*$ e o conjunto vazio $\\varnothing$. Ele corresponde ao conjunto de todas as possíveis linguagens que podem ser definidas sobre $\\Sigma$, abrangendo todas as variações e combinações de cadeias possíveis.\n",
        "  - É interessante notar que $\\varnothing$ e $\\Sigma^*$ são elementos de $2^{\\Sigma^*}$, evidenciando a abrangência deste conjunto, que vai da menor à maior linguagem possível sobre o alfabeto $\\Sigma$.\n",
        "\n",
        "Essas observações realçam a estrutura hierárquica e inclusiva dos conjuntos em teoria das linguagens formais, desde o conjunto mais simples $\\varnothing$ até o conjunto potência $2^{\\Sigma^*}$, que encapsula todas as linguagens possíveis."
      ]
    },
    {
      "cell_type": "markdown",
      "metadata": {
        "id": "ElCn6nCyWYoJ"
      },
      "source": [
        "Considere o alfabeto $\\Sigma = \\{a, b, c\\}$ e uma propriedade $P$ que define que todas as cadeias devem iniciar com o símbolo 'a'. Vamos explorar algumas linguagens derivadas de $\\Sigma$ e como elas se relacionam com a propriedade $P$:\n",
        "\n",
        "- **Linguagem $L_0$**:\n",
        "  - Definida como $L_0 = \\varnothing$, é a menor linguagem possível sobre $\\Sigma$. Ela não contém nenhuma cadeia e, portanto, não contribui para a propriedade $P$.\n",
        "\n",
        "- **Linguagem $L_1$**:\n",
        "  - Contém cadeias que começam com 'a' e segue a propriedade $P$: $L_1 = \\{a, ab, ac, abc, acb\\}$. Esta é uma linguagem finita e satisfaz a condição de iniciar todas as cadeias com 'a'.\n",
        "\n",
        "- **Linguagem $L_2$**:\n",
        "  - É uma linguagem infinita que também obedece a $P$, definida como $L_2 = \\{a\\}\\{a\\}^*\\{b\\}^*\\{c\\}^*$. Isso significa que $L_2$ começa com 'a', seguido por zero ou mais 'a's, 'b's e 'c's, em qualquer quantidade.\n",
        "\n",
        "- **Linguagem $L_3$**:\n",
        "  - A maior linguagem que observa $P$, definida por $L_3 = \\{a\\}\\{a,b,c\\}^*$, consiste em todas as cadeias que começam com 'a' seguido por qualquer combinação de 'a', 'b', e 'c'. Ela é infinita e engloba todas as cadeias que podem ser formadas segundo $P$.\n",
        "\n",
        "- **Subconjuntos e Pertinência**:\n",
        "  - Todas estas linguagens, $L_0$, $L_1$, $L_2$, e $L_3$, são subconjuntos de $\\Sigma^*$ e elementos do conjunto potência $2^{\\Sigma^*}$, que representa todas as possíveis linguagens definidas sobre $\\Sigma$.\n",
        "\n",
        "- **Diversidade de Linguagens**:\n",
        "  - Além de $L_0$, $L_1$, $L_2$ e $L_3$, existem muitas outras linguagens que podem ser construídas a partir de $\\Sigma$ seguindo diferentes regras ou propriedades.\n",
        "\n",
        "Este exemplo demonstra a variedade e a complexidade das linguagens que podem ser definidas a partir de um alfabeto básico, dependendo das propriedades ou regras especificadas, desde o conjunto vazio até linguagens infinitamente expansíveis."
      ]
    },
    {
      "cell_type": "markdown",
      "metadata": {
        "id": "rCE4FCKlWYoK"
      },
      "source": [
        "### Questão 5 - Slide 26"
      ]
    },
    {
      "cell_type": "markdown",
      "metadata": {
        "id": "0mujeSXpWYoK"
      },
      "source": [
        "### Exemplo de Fechamento Transitivo\n",
        "\n",
        "Explore o conceito de fechamento transitivo no alfabeto $\\Sigma = \\{n, (, ), +, *, -, /\\}$:\n",
        "\n",
        "**Resposta**  \n",
        "O fechamento transitivo é uma operação fundamental em linguagens formais que gera um conjunto contendo todas as possíveis sequências (ou cadeias) de elementos de um alfabeto, concatenadas em qualquer quantidade, incluindo a cadeia vazia ($ϵ$) para o fechamento reflexivo. Vamos explorar esse conceito usando o alfabeto:  \n",
        "\n",
        "- $\\Sigma^*$ representa o conjunto de todas as possíveis cadeias formadas pelos símbolos em $\\Sigma$, incluindo a cadeia vazia ($\\epsilon$). Exemplos de cadeias em $\\Sigma^*$ incluem \"n\", \"n+n\", \"-n\\)\", \"*/\", e \"n()\\)\", representando a vasta gama de expressões que podem ser criadas.\n",
        "\n",
        "- $\\Sigma^+$ é similar ao $\\Sigma^*$, mas não inclui a cadeia vazia ($\\epsilon$). Assim, contém cadeias como \"n\", \"n+n\", \"-n)\", \"n()\", e \"n-(n*n)\", refletindo todas as combinações possíveis de elementos em $\\Sigma$ com um ou mais símbolos.\n",
        "\n",
        "- A relação $\\Sigma^+ = \\Sigma^* - \\{\\epsilon\\}$ demonstra que $\\Sigma^+$ pode ser derivado de $\\Sigma^*$ pela remoção da cadeia vazia, ressaltando a conexão entre esses dois conjuntos no contexto do fechamento transitivo.\n"
      ]
    },
    {
      "cell_type": "markdown",
      "metadata": {
        "id": "O1axztIJWYoK"
      },
      "source": [
        "## Slide 28 - Reversão"
      ]
    },
    {
      "cell_type": "markdown",
      "metadata": {
        "id": "x4ivx1QaWYoL"
      },
      "source": [
        "### Questão 6"
      ]
    },
    {
      "cell_type": "markdown",
      "metadata": {
        "id": "S4VtYROuWYoL"
      },
      "source": [
        "Dada a linguagem $L_2 = \\{\\epsilon, a, ab, abc\\}$, escreva uma função em Python que determine o reverso dessa linguagem, denotado por $L_2^R$. O reverso de uma linguagem é um conjunto de cadeias onde cada cadeia é o inverso das cadeias originais de $L_2$."
      ]
    },
    {
      "cell_type": "code",
      "execution_count": 4,
      "metadata": {
        "colab": {
          "base_uri": "https://localhost:8080/",
          "height": 0
        },
        "id": "mMLukcFBWYoL",
        "outputId": "5dfce972-b025-4156-80c7-2ad158475014"
      },
      "outputs": [
        {
          "output_type": "stream",
          "name": "stdout",
          "text": [
            "L2 = ['', 'a', 'ab', 'abc']\n",
            "LR2 = ['', 'a', 'ba', 'cba']\n"
          ]
        }
      ],
      "source": [
        "# Linguagem original\n",
        "L2 = ['', 'a', 'ab', 'abc']\n",
        "\n",
        "# Função para reverter uma linguagem\n",
        "def reverso_linguagem(linguagem):\n",
        "    return [cadeia[::-1] for cadeia in linguagem]\n",
        "\n",
        "# Calcular o reverso de L2\n",
        "LR2 = reverso_linguagem(L2)\n",
        "\n",
        "# Exibir o resultado\n",
        "print(\"L2 =\", L2)\n",
        "print(\"LR2 =\", LR2)\n"
      ]
    },
    {
      "cell_type": "markdown",
      "metadata": {
        "id": "YHtOQE98WYoQ"
      },
      "source": [
        "***Explicação do Código***\n",
        "\n",
        "- A linguagem $L_2$ é inicialmente definida como um conjunto de cadeias: $\\epsilon$ (cadeia vazia), 'a', 'ab', e 'abc'.\n",
        "- A função `reverse_language` recebe a linguagem $L_2$ como argumento e utiliza a compreensão de conjunto para criar um novo conjunto. Para cada sentença em $L_2$, a sentença é invertida (`sentence[::-1]`) e adicionada ao novo conjunto.\n",
        "- O resultado `L1` é o conjunto de todas as sentenças de $L_2$ invertidas, ou seja, $L_2^R$.\n",
        "- Ao imprimir `L1`, obtemos o reverso de $L_2$, que neste caso será $\\{\\epsilon, a, ba, cba\\}$.\n"
      ]
    },
    {
      "cell_type": "markdown",
      "metadata": {
        "id": "qL_yyQ32WYoQ"
      },
      "source": [
        "## Slide 29 - Propriedade de Prefixo e Sufixo Próprio"
      ]
    },
    {
      "cell_type": "markdown",
      "metadata": {
        "id": "nmRZZaD7WYoQ"
      },
      "source": [
        "**Prefixo Próprio:** Uma cadeia $\\alpha$ é um prefixo próprio de outra cadeia $\\alpha\\beta$ se $\\beta$ não é vazia ($\\epsilon$). Isso significa que $\\alpha$ é o início de $\\alpha\\beta$, mas $\\alpha\\beta$ contém mais caracteres além de $\\alpha$. Em uma linguagem com a propriedade de prefixo próprio, nenhuma cadeia na linguagem é um prefixo próprio de outra cadeia dentro dessa mesma linguagem.\n",
        "\n",
        "**Sufixo Próprio:** Similarmente, uma cadeia $\\alpha$ é um sufixo próprio de outra cadeia $\\beta\\alpha$ se $\\beta$ não é vazia. Aqui, $\\alpha$ aparece no final de $\\beta\\alpha$, e $\\beta\\alpha$ contém mais caracteres antes de $\\alpha$. Uma linguagem com a propriedade de sufixo próprio não tem nenhuma cadeia que seja sufixo próprio de outra cadeia na linguagem."
      ]
    },
    {
      "cell_type": "markdown",
      "metadata": {
        "id": "vdbeuQEkWYoQ"
      },
      "source": [
        "Dada a linguagem $L = \\{a, ab, abc, bc, c\\}$, escreva uma função em Python que determine se $L$ tem a propriedade de prefixo próprio e sufixo próprio. Mostre os elementos que violam estas propriedades, se houver."
      ]
    },
    {
      "cell_type": "code",
      "execution_count": null,
      "metadata": {
        "id": "Dvuo2SOlWYoR",
        "outputId": "19e8e033-dea1-4793-d91c-9c47f847a9a6"
      },
      "outputs": [
        {
          "name": "stdout",
          "output_type": "stream",
          "text": [
            "'ab' é um prefixo próprio de 'abc'\n",
            "L tem a propriedade de prefixo próprio? False\n",
            "'bc' é um sufixo próprio de 'abc'\n",
            "L tem a propriedade de sufixo próprio? False\n"
          ]
        }
      ],
      "source": [
        "L = {'a', 'ab', 'abc', 'bc', 'c'}\n",
        "\n",
        "# Verificando a propriedade de prefixo próprio\n",
        "def has_proper_prefix(language):\n",
        "    \"\"\"\n",
        "    Verifica se a linguagem possui a propriedade de prefixo próprio.\n",
        "\n",
        "    Um conjunto possui essa propriedade se nenhuma cadeia for prefixo próprio de outra.\n",
        "    Imprima print(f\"'{element}' é um prefixo de '{other}'\")\n",
        "\n",
        "    :param language: conjunto de cadeias (strings)\n",
        "    :return: True se não há prefixo próprio, False caso contrário\n",
        "    \"\"\"\n",
        "    return True\n",
        "\n",
        "# Verificando a propriedade de sufixo próprio\n",
        "def has_proper_suffix(language):\n",
        "    \"\"\"\n",
        "    Verifica se a linguagem possui a propriedade de sufixo próprio.\n",
        "\n",
        "    Um conjunto possui essa propriedade se nenhuma cadeia for sufixo próprio de outra.\n",
        "    Imprima print(f\"'{element}' é um sufixo de '{other}'\")\n",
        "\n",
        "    :param language: conjunto de cadeias (strings)\n",
        "    :return: True se não há sufixo próprio, False caso contrário\n",
        "    \"\"\"\n",
        "    return True\n",
        "\n",
        "print(\"L tem a propriedade de prefixo próprio?\", has_proper_prefix(L))\n",
        "print(\"L tem a propriedade de sufixo próprio?\", has_proper_suffix(L))"
      ]
    },
    {
      "cell_type": "markdown",
      "metadata": {
        "id": "C7Yem1VVWYoR"
      },
      "source": [
        "### Questão 7"
      ]
    },
    {
      "cell_type": "markdown",
      "metadata": {
        "id": "zvPh3UpQWYoT"
      },
      "source": [
        "Dada as linguagens abaixo disposta em um dicionário, escreva uma função em Python que determine se cada uma delas tem a propriedade de prefixo próprio e sufixo próprio. Mostre os elementos que violam estas propriedades, se houver."
      ]
    },
    {
      "cell_type": "code",
      "execution_count": null,
      "metadata": {
        "id": "q83HZr-IWYoT",
        "outputId": "77f64e7e-f944-4a36-9f63-6c7de32f72a3"
      },
      "outputs": [
        {
          "name": "stdout",
          "output_type": "stream",
          "text": [
            "'pref' é um prefixo próprio de 'prefix'\n",
            "L1 tem a propriedade de prefixo próprio? False\n",
            "L1 tem a propriedade de sufixo próprio? True\n",
            "Portanto, L1 tem somente a propriedade de sufixo próprio.\n",
            "\n",
            "'pref' é um prefixo próprio de 'prefix'\n",
            "'fix' é um sufixo próprio de 'prefix'\n",
            "L2 tem a propriedade de prefixo próprio? False\n",
            "L2 tem a propriedade de sufixo próprio? False\n",
            "Portanto, L2 não possui as propriedades de prefixo e sufixo próprio.\n",
            "\n",
            "L3 tem a propriedade de prefixo próprio? True\n",
            "L3 tem a propriedade de sufixo próprio? True\n",
            "Portanto, L3 possui ambas as propriedades de prefixo e sufixo próprio.\n",
            "\n",
            "'at' é um sufixo próprio de 'sat'\n",
            "L4 tem a propriedade de prefixo próprio? True\n",
            "L4 tem a propriedade de sufixo próprio? False\n",
            "Portanto, L4 tem somente a propriedade de prefixo próprio.\n",
            "\n"
          ]
        }
      ],
      "source": [
        "languages = [\n",
        "    ('L1', {'prefix', 'pref', 'xfix'}),\n",
        "    ('L2', {'prefix', 'pref', 'fix'}),\n",
        "    ('L3', {'alpha', 'beta', 'gamma'}),\n",
        "    ('L4', {\"bat\",\"sat\",\"at\"})\n",
        "]\n",
        "\n",
        "# Função para verificar a propriedade de prefixo próprio\n",
        "def has_proper_prefix(language):\n",
        "    # comment via docstring pep8\n",
        "    \"\"\"\n",
        "    @brief Para cada elemento na linguagem, verifica se existe outro elemento que seja diferente dele mesmo e que começa com ele.\n",
        "    Se encontrar, imprime a relação e retorna False.\n",
        "    Se não encontrar, retorna True. Imprima dentro da função print(f\"'{x}' é um prefixo próprio de '{y}'\")\n",
        "\n",
        "    :param language: Conjunto de cadeias da linguagem.\n",
        "    :return: True se a linguagem não tem prefixos próprios, False caso contrário.\n",
        "    \"\"\"\n",
        "    return True\n",
        "\n",
        "# Função para verificar a propriedade de sufixo próprio\n",
        "def has_proper_suffix(language):\n",
        "    # comment via docstring pep8\n",
        "    \"\"\"\n",
        "    @brief Para cada elemento na linguagem, verifica se existe outro elemento que seja diferente dele mesmo e que termina com ele.\n",
        "    Se encontrar, imprime a relação e retorna False.\n",
        "    Se não encontrar, retorna True. Imprima dentro da função print(f\"'{x}' é um sufixo próprio de '{y}'\")\n",
        "\n",
        "    :param language: Conjunto de cadeias da linguagem.\n",
        "    :return: True se a linguagem não tem sufixos próprios, False caso contrário.\n",
        "    \"\"\"\n",
        "    return True\n",
        "\n",
        "# Testando as propriedades para cada linguagem\n",
        "for name, lang in languages:\n",
        "    print(f\"\\n{name} tem a propriedade de prefixo próprio? {has_proper_prefix(lang)}\")\n",
        "    print(f\"{name} tem a propriedade de sufixo próprio? {has_proper_suffix(lang)}\")\n",
        "\n",
        "    prefix = has_proper_prefix(lang)\n",
        "    suffix = has_proper_suffix(lang)\n",
        "\n",
        "    if prefix and suffix:\n",
        "        print(f\"Portanto, {name} possui ambas as propriedades de prefixo e sufixo próprio.\\n\")\n",
        "    elif prefix:\n",
        "        print(f\"Portanto, {name} tem somente a propriedade de prefixo próprio.\\n\")\n",
        "    elif suffix:\n",
        "        print(f\"Portanto, {name} tem somente a propriedade de sufixo próprio.\\n\")\n",
        "    else:\n",
        "        print(f\"Portanto, {name} não possui as propriedades de prefixo e sufixo próprio.\\n\")\n",
        "# Exemplo de uso\n",
        ""
      ]
    },
    {
      "cell_type": "markdown",
      "metadata": {
        "id": "mI3gAH7lWYoU"
      },
      "source": [
        "## Slide 31 - Quociente de Linguagens"
      ]
    },
    {
      "cell_type": "markdown",
      "metadata": {
        "id": "lDTVOzfGWYoU"
      },
      "source": [
        "**Definição**\n",
        "Sejam $L_1$ e $L_2$ duas linguagens. O quociente de $L_1$ por $L_2$, denotado por $L_1 / L_2$, é definido como o conjunto de todas as cadeias $x$ tal que a concatenação de $x$ com qualquer cadeia $y$ de $L_2$ resulta em uma cadeia que pertence a $L_1$.\n",
        "\n",
        "#### Formulação Matemática\n",
        "$$\n",
        "L_1 / L_2 = \\{x \\mid xy \\in L_1, y \\in L_2\\}\n",
        "$$\n",
        "\n",
        "#### Exemplo Prático\n",
        "Considere as linguagens:\n",
        "- $L = \\{a, aab, baa\\}$\n",
        "- $A = \\{a\\}$\n",
        "\n",
        "Para calcular o quociente $L/A$, procuramos por cadeias em $L$ que, ao serem concatenadas com 'a' (os elementos de $A$), ainda pertencem a $L$.\n",
        "\n",
        "- Da cadeia 'a' em $L$, removendo 'a' de $A$, sobra o $\\epsilon$ (cadeia vazia).\n",
        "- Da cadeia 'aab' em $L$, removendo 'a' de $A$, sobra 'ab'. No entanto, 'ab' não é incluída porque não satisfaz a condição de formar uma cadeia em $L$ ao ser concatenada com 'a'.\n",
        "- Da cadeia 'baa' em $L$, removendo 'a' de $A$, sobra 'ba'.\n",
        "\n",
        "Portanto, o quociente $L/A$ é $\\{\\epsilon, ba\\}$.\n"
      ]
    },
    {
      "cell_type": "markdown",
      "metadata": {
        "id": "IbHMLRprWYoU"
      },
      "source": [
        "### Questão 8 - Slide 32"
      ]
    },
    {
      "cell_type": "markdown",
      "metadata": {
        "id": "fdhlVtKCWYoU"
      },
      "source": [
        "Considere as linguagens seguintes:\n",
        "\n",
        "- $L_1 = \\{a^i b \\mid i \\geq 0\\}$\n",
        "- $L_2 = \\{a^i b c^i \\mid i \\geq 0\\}$\n",
        "- $L_3 = \\{b\\}$\n",
        "- $L_4 = \\{a^i b \\mid i \\geq 1\\}$\n",
        "- $L_5 = \\{b c^i \\mid i \\geq 0\\}$\n",
        "- $L_6 = \\{c^i b \\mid i \\geq 0\\}$\n",
        "- $L_7 = \\{a^i \\mid i \\geq 0\\}$\n",
        "\n",
        "### Descrição das Linguagens\n",
        "\n",
        "- **$L_1 = \\{a^i b \\mid i \\geq 0\\}$**\n",
        "  \n",
        "  Esta linguagem consiste em cadeias formadas pela repetição de 'a' zero ou mais vezes seguida por um 'b'. Isso inclui 'b' (quando $i=0$), 'ab' ($i=1$), 'aab' ($i=2$), e assim por diante.\n",
        "\n",
        "- **$L_2 = \\{a^i b c^i \\mid i \\geq 0\\}$**\n",
        "  \n",
        "  Aqui, as cadeias começam e terminam com o mesmo número de 'a's e 'c's respectivamente, com um 'b' no meio. Exemplos incluem 'b' ($i=0$), 'abc' ($i=1$), 'aabcc' ($i=2$), etc.\n",
        "\n",
        "- **$L_3 = \\{b\\}$**\n",
        "  \n",
        "  Esta linguagem é a mais simples e contém uma única cadeia: 'b'.\n",
        "\n",
        "- **$L_4 = \\{a^i b \\mid i \\geq 1\\}$**\n",
        "  \n",
        "  Similar a $L_1$, mas aqui temos pelo menos um 'a' antes do 'b', ou seja, não inclui apenas 'b'. Exemplos são 'ab' ($i=1$), 'aab' ($i=2$), etc.\n",
        "\n",
        "- **$L_5 = \\{b c^i \\mid i \\geq 0\\}$**\n",
        "  \n",
        "  Consiste em cadeias que começam com 'b' seguidas por zero ou mais 'c's. Inclui 'b' ($i=0$), 'bc' ($i=1$), 'bcc' ($i=2$), e assim por diante.\n",
        "\n",
        "- **$L_6 = \\{c^i b \\mid i \\geq 0\\}$**\n",
        "  \n",
        "  Similar a $L_5$, mas aqui 'c's precedem o 'b'. Isso inclui 'b' ($i=0$), 'cb' ($i=1$), 'ccb' ($i=2$), etc.\n",
        "\n",
        "- **$L_7 = \\{a^i \\mid i \\geq 0\\}$**\n",
        "  \n",
        "  Esta linguagem inclui somente cadeias de 'a's de qualquer comprimento, incluindo a cadeia vazia $\\epsilon$ quando $i=0$, 'a' ($i=1$), 'aa' ($i=2$), e assim por diante.\n",
        "\n",
        "\n",
        "**Quocientes de Linguagens: Exemplos Detalhados**\n",
        "\n",
        "1. **$L_1 / L_3 = ?$**\n",
        "\n",
        "   - $L_1 = \\{a^i b \\mid i \\geq 0\\}$ inclui cadeias como 'b', 'ab', 'aab', 'aaab', etc.\n",
        "   - $L_3 = \\{b\\}$ contém apenas a cadeia 'b'.\n",
        "\n",
        "   O quociente $L_1 / L_3$ procura cadeias em $L_1$ que, ao serem concatenadas com 'b' de $L_3$, resultam em cadeias ainda em $L_1$. Portanto, o resultado é composto por cadeias de 'a's de qualquer comprimento.\n",
        "\n",
        "   **Resposta**: $L_1 / L_3$ são todas as cadeias formadas por 'a', que é $L_7 = \\{a^i \\mid i \\geq 0\\}$.\n",
        "\n",
        "2. **$L_1 / L_4 = ?$**\n",
        "Considere as seguintes linguagens:\n",
        "\n",
        "    - $L_1 = \\{a^i b \\mid i \\geq 0\\}$: Contém cadeias como 'b', 'ab', 'aab', etc., onde 'b' é precedido por zero ou mais 'a's.\n",
        "    - $L_4 = \\{a^i b \\mid i \\geq 1\\}$: Similar a $L_1$, mas começa com pelo menos um 'a', então não inclui 'b' sozinha. Contém 'ab', 'aab', 'aaab', etc.\n",
        "\n",
        "        - O Quociente $L_1 / L_4$\n",
        "\n",
        "            Ao calcular $L_1 / L_4$, procuramos por cadeias em $L_1$ que, ao serem concatenadas com qualquer cadeia de $L_4$, resultem em uma cadeia que ainda pertence a $L_1$.\n",
        "\n",
        "        -  **Exemplos Detalhados para $L_1 / L_4$**:\n",
        "\n",
        "            - Cadeia 'b' em $L_1$: Não pode ser formada removendo algo de $L_4$.\n",
        "            - Cadeia 'ab' em $L_1$: Forma $\\epsilon$ ao remover 'ab', então $\\epsilon \\in L_1 / L_4$.\n",
        "            - Cadeia 'aab' em $L_1$: Ao remover 'ab', restam 'a', então 'a $\\in L_1 / L_4$.\n",
        "            - Cadeia 'aaab' em $L_1$: Removendo 'ab', restam 'aa', então 'aa' está em $L_1 / L_4$.\n",
        "            - Cadeia 'aaaab' em $L_1$: Removendo 'ab', restam 'aaa', assim 'aaa' está em $L_1 / L_4$.\n",
        "            - Continuando assim, todas as cadeias de 'a's de qualquer comprimento estão em $L_1 / L_4$.\n",
        "\n",
        "    Portanto, $L_1 / L_4$ é composto por todas as cadeias de 'a's, ou seja, é igual a $L_7$.\n",
        "\n",
        "    **Conclusão:**\n",
        "\n",
        "    - Cada cadeia em $L_1 / L_4$ é formada pela remoção de 'ab' das cadeias em $L_1$, resultando em cadeias compostas apenas por 'a's.\n",
        "    - Portanto, **$L_1 / L_4 = L_7 = \\{a^i \\mid i \\geq 0\\}$**, que representa todas as possíveis sequências de 'a's, incluindo a cadeia vazia.\n",
        "\n",
        "3. **$L_5 / L_7 = ?$**\n",
        "\n",
        "   - $L_5 = \\{b c^i \\mid i \\geq 0\\}$ começa com 'b' seguido por zero ou mais 'c's. (b, bc, bcc, bccc)\n",
        "   - $L_7 = \\{a^i \\mid i \\geq 0\\}$ inclui somente cadeias de 'a's de qualquer comprimento ($\\epsilon$, a, aa, aaa...)\n",
        "\n",
        "   Para $L_5 / L_7$, como $L_7$ contém apenas cadeias de 'a's, e nenhuma cadeia em $L_5$ pode resultar em uma cadeia em $L_5$ ao ser concatenada com 'a's, o resultado é o conjunto vazio.\n",
        "\n",
        "   **Resposta**: $L_5 / L_7$ é $\\varnothing$, pois não há como obter cadeias de $L_5$ ao concatenar com cadeias de $L_7$.\n",
        "\n",
        "4. **$L_2 / L_6 = ?$**\n",
        "\n",
        "   - $L_2 = \\{a^i b c^i \\mid i \\geq 0\\}$ onde o número de 'a's e 'c's é o mesmo, envolvendo um 'b'.  \n",
        "    (b, abc, aabcc, aaabccc, ...)\n",
        "   - $L_6 = \\{c^i b \\mid i \\geq 0\\}$ contém cadeias que começam com zero ou mais 'c's seguidos por 'b'.  \n",
        "   (b, cb, ccb, cccb, ...)\n",
        "\n",
        "   **Processo para encontrar $L_2 / L_6$**\n",
        "\n",
        "    Ao tentar formar o quociente $L_2 / L_6$, encontramos dificuldades:\n",
        "    - As cadeias em $L_2$ são estruturadas de forma que 'b' esteja sempre entre o mesmo número de 'a's e 'c's.\n",
        "    - As cadeias em $L_6$ não se encaixam como sufixos diretos em $L_2$ porque os 'c's em $L_2$ estão sempre precedidos por 'b'.\n",
        "    - Portanto, não há uma correspondência direta que permita remover um sufixo de $L_6$ de uma cadeia em $L_2$ mantendo a cadeia resultante dentro de $L_2$.\n",
        "\n",
        "    **Conclusão:**\n",
        "    - Nenhuma cadeia em $L_6$ se ajusta perfeitamente como um sufixo removível das cadeias em $L_2$ devido à estrutura específica de $L_2$ que requer um número igual de 'a's e 'c's separados por um único 'b'.\n",
        "    - Consequentemente, não é possível formar uma cadeia em $L_2$ removendo partes que são consistentes com $L_6$.\n",
        "    - Dado que não podemos satisfazer a condição para o quociente $L_2 / L_6$ com as cadeias fornecidas em ambas as linguagens, o resultado é o conjunto vazio $\\varnothing$.\n",
        "    - Assim, temos $L_2 / L_6 = \\varnothing$, indicando que não existem cadeias em $L_2$ das quais podemos remover um sufixo de $L_6$ e ainda termos uma cadeia que pertença a $L_2$.\n",
        "\n",
        "---"
      ]
    },
    {
      "cell_type": "markdown",
      "metadata": {
        "id": "OhHLtRjnWYoU"
      },
      "source": [
        "\n",
        "#### 🧠 Exercício: Quociente de Linguagens"
      ]
    },
    {
      "cell_type": "markdown",
      "metadata": {
        "id": "giJenL3PWYoV"
      },
      "source": [
        "##### Objetivo\n",
        "\n",
        "Implementar a operação de **quociente de linguagens**, definida formalmente como:\n",
        "\n",
        "$$\n",
        "L_1 / L_2 = \\{x \\mid \\exists y \\in L_2,\\ xy \\in L_1\\}\n",
        "$$\n",
        "\n",
        "Ou seja, o conjunto de todas as cadeias `x` tal que existe uma cadeia `y ∈ L2` com `x + y ∈ L1`.\n",
        "\n",
        "---\n",
        "\n",
        "##### O que você deve fazer\n",
        "\n",
        "1. Implementar uma função auxiliar `is_suffix(suffix, word)` que:\n",
        "   - Verifica se `suffix` é sufixo de `word`;\n",
        "   - Retorna o prefixo restante (`x`) se for;\n",
        "   - Caso contrário, retorna `None`.\n",
        "\n",
        "2. Usar essa função dentro da implementação de `quociente(L1, L2)`.\n",
        "\n",
        "3. Validar o funcionamento com testes automatizados utilizando `unittest`.\n",
        "\n",
        "---"
      ]
    },
    {
      "cell_type": "code",
      "execution_count": null,
      "metadata": {
        "id": "kvjpSj9rWYoV"
      },
      "outputs": [],
      "source": [
        "\n",
        "def is_suffix(suffix, word):\n",
        "    \"\"\"\n",
        "    Verifica se 'suffix' é um sufixo de 'word'.\n",
        "    Se for, retorna o prefixo restante (word - suffix).\n",
        "    Caso contrário, retorna None.\n",
        "    \"\"\"\n",
        "    return None\n",
        "\n",
        "def quociente(L1, L2):\n",
        "    \"\"\"\n",
        "    Calcula L1 / L2 = { x | existe y ∈ L2 tal que xy = w ∈ L1 },\n",
        "    usando is_suffix para extrair x de forma direta.\n",
        "    \"\"\"\n",
        "    resultado = set()\n",
        "    return resultado\n"
      ]
    },
    {
      "cell_type": "markdown",
      "metadata": {
        "id": "1Z0JRD2RWYoV"
      },
      "source": [
        "##### ✅ Testes Automatizados"
      ]
    },
    {
      "cell_type": "code",
      "execution_count": null,
      "metadata": {
        "id": "LHD_MEMGWYoW",
        "outputId": "9782a202-7d9b-4c6a-d249-93b70d03900e"
      },
      "outputs": [
        {
          "name": "stderr",
          "output_type": "stream",
          "text": [
            ".........\n",
            "----------------------------------------------------------------------\n",
            "Ran 9 tests in 0.007s\n",
            "\n",
            "OK\n"
          ]
        },
        {
          "data": {
            "text/plain": [
              "<unittest.main.TestProgram at 0x1ef06268b80>"
            ]
          },
          "execution_count": 4,
          "metadata": {},
          "output_type": "execute_result"
        }
      ],
      "source": [
        "\n",
        "import unittest\n",
        "\n",
        "class TestQuociente(unittest.TestCase):\n",
        "\n",
        "    def test_exemplo_classico(self):\n",
        "        L1 = {'a', 'aab', 'baa'}\n",
        "        L2 = {'a'}\n",
        "        esperado = {'ε', 'ba'}\n",
        "        self.assertEqual(quociente(L1, L2), esperado)\n",
        "\n",
        "    def test_sufixo_vazio(self):\n",
        "        L1 = {'a', 'b'}\n",
        "        L2 = {''}\n",
        "        esperado = {'a', 'b'}\n",
        "        self.assertEqual(quociente(L1, L2), esperado)\n",
        "\n",
        "    def test_sem_sufixo_em_comum(self):\n",
        "        L1 = {'abc', 'def'}\n",
        "        L2 = {'x', 'y'}\n",
        "        esperado = set()\n",
        "        self.assertEqual(quociente(L1, L2), esperado)\n",
        "\n",
        "    def test_multiplos_sufixos_validos(self):\n",
        "        L1 = {'banana', 'bandana', 'ana'}\n",
        "        L2 = {'ana'}\n",
        "        esperado = {'ban', 'band', 'ε'}\n",
        "        self.assertEqual(quociente(L1, L2), esperado)\n",
        "\n",
        "    def test_varias_possibilidades(self):\n",
        "        L1 = {'hello', 'hell', 'low', 'yellow'}\n",
        "        L2 = {'lo', 'low'}\n",
        "        esperado = {'hel', 'yel', 'ε'}\n",
        "        self.assertEqual(quociente(L1, L2), esperado)\n",
        "\n",
        "unittest.main(argv=[''], exit=False)\n"
      ]
    },
    {
      "cell_type": "markdown",
      "metadata": {
        "id": "AktuYkFiWYoW"
      },
      "source": [
        "## Slide 33 - Substituição"
      ]
    },
    {
      "cell_type": "markdown",
      "metadata": {
        "id": "E29JLjUKWYoW"
      },
      "source": [
        "A **substituição** é uma operação fundamental em muitos aspectos da computação e análise de linguagens formais onde você associa cada símbolo de um alfabeto a um conjunto de cadeias de outro alfabeto. Pode-se pensar nisso como uma regra que diz como cada letra de um alfabeto pode ser transformada em palavras de outro alfabeto. Ou seja, é uma maneira de transformar cadeias de um alfabeto em cadeias de outro alfabeto, seguindo um conjunto de regras predefinidas.\n",
        "\n",
        "**Definição Formal**\n",
        "Se temos dois alfabetos:\n",
        "- $\\Sigma_1$: O alfabeto de origem.\n",
        "- $\\Sigma_2$: O alfabeto de destino.\n",
        "\n",
        "Uma substituição $s$ é uma função que para cada símbolo em $\\Sigma_1$, associa um conjunto de cadeias (palavras) formadas pelos símbolos em $\\Sigma_2$. Em termos matemáticos, a substituição é descrita como:\n",
        "$$s: \\Sigma_1 \\to 2^{\\Sigma_2^*}$$\n",
        "onde $2^{\\Sigma_2^*}$ representa o conjunto de todos os subconjuntos de cadeias possíveis em $\\Sigma_2$.\n",
        "\n",
        "**Exemplo Prático**\n",
        "Considerando:\n",
        "- $\\Sigma_1 = \\{a, b, c\\}$\n",
        "- $\\Sigma_2 = \\{x, y, z\\}$\n",
        "\n",
        "Podemos definir uma substituição $s$ como:\n",
        "- $s(a) = \\{x\\}$: O símbolo 'a' é substituído por 'x'.\n",
        "- $s(b) = \\{y, yy\\}$: O símbolo 'b' pode ser substituído por 'y' ou 'yy'.\n",
        "- $s(c) = \\{z, zz, zzz\\}$: O símbolo 'c' pode ser substituído por 'z', 'zz', ou 'zzz'.\n",
        "\n",
        "**Como Funciona**\n",
        "- Quando aplicamos a substituição, cada letra do alfabeto $\\Sigma_1$ é transformada nas possíveis cadeias definidas pela função $s$.\n",
        "- Por exemplo, se temos uma cadeia 'abc' em $\\Sigma_1$, após a substituição, poderíamos obter cadeias como 'xyz', 'xyzz', 'xyzzz', etc., dependendo de como escolhemos substituir cada letra.\n",
        "\n",
        "Agora vamos aplicar essa substituição em várias cadeias do alfabeto $\\Sigma_1$:\n",
        "\n",
        "1. Para a cadeia 'a' em $\\Sigma_1$:\n",
        "   - Após a substituição, obtemos 'x', porque $s(a) = \\{x\\}$.\n",
        "\n",
        "2. Para a cadeia 'b' em $\\Sigma_1$:\n",
        "   - Podemos obter 'y' ou 'yy', porque $s(b) = \\{y, yy\\}$.\n",
        "\n",
        "3. Para a cadeia 'ab' em $\\Sigma_1$:\n",
        "   - Podemos obter 'xy' ou 'xyy', combinando as possibilidades de substituição para 'a' e 'b'.\n",
        "\n",
        "4. Para a cadeia 'bc' em $\\Sigma_1$:\n",
        "   - As opções incluem 'yz', 'yzz', 'yzzz', 'yyz', 'yyzz', e 'yyzzz', combinando as substituições para 'b' e 'c'.\n",
        "\n",
        "5. Para a cadeia 'abc' em $\\Sigma_1$:\n",
        "   - Podemos ter 'xyz', 'xyzz', 'xyzzz', 'xyyz', 'xyyzz', 'xyyzzz', e assim por diante, escolhendo uma substituição para cada símbolo em 'abc'.\n"
      ]
    },
    {
      "cell_type": "markdown",
      "metadata": {
        "id": "1qaHa-QVWYoW"
      },
      "source": [
        "Além de aplicar substituições a elementos individuais de um alfabeto, também podemos aplicar uma substituição a uma cadeia inteira. Esta operação é definida de maneira indutiva, ou seja, construída passo a passo, aplicando a substituição a cada símbolo da cadeia.\n",
        "\n",
        "#### Definição Indutiva\n",
        "Seja $s$ uma substituição e $w$ uma cadeia, a aplicação de $s$ em $w$, denotada por $s(w)$, segue estas regras:\n",
        "\n",
        "- Para a cadeia vazia $\\epsilon$, $s(\\epsilon) = \\epsilon$.\n",
        "- Para uma cadeia $a\\alpha$, onde $a$ é um símbolo do alfabeto $\\Sigma_1$ e $\\alpha$ é uma subsequência de cadeias em $\\Sigma_1^*$, temos:\n",
        "  $$s(a\\alpha) = s(a)s(\\alpha)$$\n",
        "\n",
        "Ou seja, a substituição de uma cadeia é o resultado da concatenação das substituições de cada um de seus símbolos.\n",
        "\n",
        "#### Exemplo Prático\n",
        "\n",
        "Suponha a cadeia $w = abc$ e a seguinte substituição $s$:\n",
        "\n",
        "- $s(a) = \\{x\\}$\n",
        "- $s(b) = \\{y, yy\\}$\n",
        "- $s(c) = \\{z, zz, zzz\\}$\n",
        "\n",
        "Então, para aplicar a substituição em $w$:\n",
        "\n",
        "1. Começamos com $s(abc)$.\n",
        "2. Aplicamos a substituição ao primeiro símbolo e ao restante da cadeia:\n",
        "   $$s(abc) = s(a)s(bc)$$\n",
        "3. Continuamos aplicando a substituição para cada parte:\n",
        "   $$s(a) = \\{x\\}$$\n",
        "   $$s(bc) = s(b)s(c)$$\n",
        "   $$s(b) = \\{y, yy\\}$$\n",
        "   $$s(c) = \\{z, zz, zzz\\}$$\n",
        "4. Combinando todas as possíveis substituições de $s(a)$ e $s(b)$ com $s(c)$, obtemos um conjunto de cadeias resultantes de $s(abc)$.\n",
        "\n",
        "Portanto, $s(abc)$ gera um conjunto de cadeias que inclui combinações como 'xyz', 'xyzz', 'xyzzz', 'xyyz', 'xyyzz', 'xyyzzz', e assim por diante."
      ]
    },
    {
      "cell_type": "markdown",
      "metadata": {
        "id": "YaWSM2HlWYoW"
      },
      "source": [
        "Vamos aplicar a substituição em uma cadeia mais complexa, digamos $w = abac$, usando a mesma substituição $s$ do exemplo anterior:\n",
        "\n",
        "- $s(a) = \\{x\\}$\n",
        "- $s(b) = \\{y, yy\\}$\n",
        "- $s(c) = \\{z, zz, zzz\\}$\n",
        "\n",
        "A cadeia $w = abac$ será analisada e transformada pela substituição $s$.\n",
        "\n",
        "1. Começamos decompondo a cadeia e aplicando a substituição passo a passo:\n",
        "   $$s(abac) = s(a)s(bac)$$\n",
        "\n",
        "2. Aplicando a substituição ao primeiro símbolo e ao restante da cadeia sequencialmente:\n",
        "   - Para o primeiro 'a': $s(a) = \\{x\\}$\n",
        "   - Para o restante 'bac':\n",
        "     $$s(bac) = s(b)s(ac)$$\n",
        "\n",
        "3. Continuamos desdobrando cada parte:\n",
        "   - Para 'b': $s(b) = \\{y, yy\\}$\n",
        "   - Para 'ac':\n",
        "     $$s(ac) = s(a)s(c)$$\n",
        "   - Para o segundo 'a': $s(a) = \\{x\\}$\n",
        "   - Para 'c': $s(c) = \\{z, zz, zzz\\}$\n",
        "\n",
        "4. Agora, combinamos as substituições de cada símbolo para obter o resultado final:\n",
        "   - Combinando $s(a)$, $s(b)$, e $s(ac)$, temos múltiplas combinações possíveis, dependendo das escolhas em $s(b)$ e $s(c)$.\n",
        "\n",
        "**Exemplo Concreto de Combinações**\n",
        "- Considerando uma das possíveis substituições para 'b' e 'c', podemos ter:\n",
        "  - Se escolhemos 'y' para 'b' e 'z' para 'c', uma das combinações possíveis para $s(abac)$ seria 'xyxz'.\n",
        "  - Se escolhemos 'yy' para 'b' e 'zzz' para 'c', outra combinação possível seria 'xyyxzzz'.  \n",
        "\n",
        "Assim, a substituição $s$ é aplicada a cada parte da cadeia $w = abac$, gerando um conjunto de cadeias resultantes que refletem todas as combinações possíveis de substituições conforme definido por $s$.\n"
      ]
    },
    {
      "cell_type": "markdown",
      "metadata": {
        "id": "g2nifsffWYoX"
      },
      "source": [
        "## Slide 35"
      ]
    },
    {
      "cell_type": "markdown",
      "metadata": {
        "id": "Omw-riWgWYoX"
      },
      "source": [
        "A operação de substituição, previamente discutida no contexto de cadeias individuais, pode ser ampliada para ser aplicada a uma linguagem completa. Isso nos permite transformar todas as cadeias em uma linguagem de acordo com regras de substituição específicas.\n",
        "\n",
        "#### Definição para Linguagens\n",
        "Seja $s$ uma substituição e $L$ uma linguagem, então a aplicação de $s$ em $L$, denotada por $s(L)$, é definida como:\n",
        "\n",
        "$$s(L) = \\{y | y = s(x)\\ para\\ x \\in L\\}$$\n",
        "\n",
        "Isso significa que para cada cadeia $x$ em $L$, aplicamos a substituição $s$ para gerar uma nova cadeia $y$, e o conjunto de todas essas novas cadeias forma a linguagem $s(L)$.\n",
        "\n",
        "#### Exemplo Prático\n",
        "\n",
        "Suponha a linguagem $L = \\{a^ib^ic^i | i \\geq 1\\}$ sobre o alfabeto $\\Sigma_1 = \\{a,b,c\\}$. Cada cadeia em $L$ consiste em 'a's, 'b's e 'c's em número igual, mas variável.\n",
        "\n",
        "Se definirmos uma substituição $s$ tal que:\n",
        "\n",
        "- $s(a) = \\{x\\}$\n",
        "- $s(b) = \\{y, yy\\}$\n",
        "- $s(c) = \\{z, zz, zzz\\}$\n",
        "\n",
        "Então, ao aplicar $s$ a $L$, consideramos todas as possíveis combinações geradas pela substituição:\n",
        "\n",
        "- Para uma cadeia $a^ib^ic^i$ em $L$, onde $i \\geq 1$, $s$ mapeia cada 'a' para 'x', cada 'b' para 'y' ou 'yy', e cada 'c' para 'z', 'zz' ou 'zzz'.\n",
        "- Assim, $s(L)$ incluirá cadeias como $x^iy^jz^k$ onde $i\\geq 1$, $i\\leq j \\leq 2i$, e $i\\leq k \\leq 3i$ refletindo as múltiplas possibilidades de substituição para 'b' e 'c'.\n",
        "\n",
        "#### Conclusão\n",
        "\n",
        "Aplicar uma substituição a uma linguagem permite a transformação de todas as suas cadeias em novas cadeias, seguindo as regras de substituição definidas. Isso resulta em uma nova linguagem que pode ter características e estruturas complexas, dependendo das regras de substituição aplicadas."
      ]
    },
    {
      "cell_type": "markdown",
      "metadata": {
        "id": "U5fJIW6oWYoX"
      },
      "source": [
        "#### 🧠 Exercício: Substituição de Cadeias entre Alfabetos"
      ]
    },
    {
      "cell_type": "markdown",
      "metadata": {
        "id": "MgRXOgJHWYoX"
      },
      "source": [
        "\n",
        "Você deve implementar uma função chamada `aplicar_substituicao(cadeia, substituicoes)` que recebe:\n",
        "\n",
        "- Uma **cadeia** formada por símbolos de um alfabeto $\\Sigma_1$ (por exemplo: `'abc'`), e  \n",
        "- Um **dicionário de substituições** que mapeia cada símbolo de $\\Sigma_1$ para **um conjunto de cadeias** (strings) sobre um alfabeto $\\Sigma_2$.\n",
        "\n",
        "A função deve **gerar todas as cadeias possíveis** resultantes da substituição de cada símbolo da cadeia original por uma das opções possíveis no dicionário.\n",
        "\n",
        "##### ✅ Regras\n",
        "\n",
        "- Para cada símbolo da cadeia original, substitua-o por **todas as cadeias possíveis** associadas a ele.\n",
        "- O resultado final deve ser **todas as combinações possíveis**.\n",
        "- A ordem das combinações não importa.\n",
        "- Retorne a lista **sem repetições**.\n",
        "\n",
        "##### 🧪 Exemplo de uso\n",
        "\n",
        "```python\n",
        "substituicoes = {\n",
        "    'a': ['x'],\n",
        "    'b': ['y', 'yy'],\n",
        "    'c': ['z', 'zz', 'zzz']\n",
        "}\n",
        "\n",
        "resultado = aplicar_substituicao('abc', substituicoes)\n",
        "print(sorted(resultado))\n",
        "```\n",
        "\n",
        "**Saída esperada (ordenada):**\n",
        "```\n",
        "['xyz', 'xyyzz', 'xyyzzz', 'xyyz', 'xyzz', 'xyzzz']\n",
        "```\n",
        "\n",
        "##### 💡 Dica\n",
        "Use `itertools.product` para gerar as combinações possíveis.\n"
      ]
    },
    {
      "cell_type": "markdown",
      "metadata": {
        "id": "3JfL9DC1WYoX"
      },
      "source": [
        "##### Coloque a sua resposta na célula abaixo"
      ]
    },
    {
      "cell_type": "code",
      "execution_count": null,
      "metadata": {
        "id": "BBS5HGSOWYoX"
      },
      "outputs": [],
      "source": [
        "from itertools import product\n",
        "\n",
        "def aplicar_substituicao(cadeia, substituicoes):\n",
        "\n",
        "    return list(resultados)"
      ]
    },
    {
      "cell_type": "markdown",
      "metadata": {
        "id": "0Ol9RWP1WYoY"
      },
      "source": [
        "##### ✅ Casos de Teste Automatizados"
      ]
    },
    {
      "cell_type": "code",
      "execution_count": null,
      "metadata": {
        "id": "Ak4-0QLpWYoY",
        "outputId": "1fb0a91e-025f-4699-8387-01636d01b199"
      },
      "outputs": [
        {
          "name": "stderr",
          "output_type": "stream",
          "text": [
            "....\n",
            "----------------------------------------------------------------------\n",
            "Ran 4 tests in 0.003s\n",
            "\n",
            "OK\n"
          ]
        },
        {
          "data": {
            "text/plain": [
              "<unittest.main.TestProgram at 0x1ef06268820>"
            ]
          },
          "execution_count": 2,
          "metadata": {},
          "output_type": "execute_result"
        }
      ],
      "source": [
        "import unittest\n",
        "## Se der OK ao final do teste, significa que o código está correto.\n",
        "class TestSubstituicao(unittest.TestCase):\n",
        "\n",
        "    def test_exemplo_base(self):\n",
        "        substituicoes = {\n",
        "            'a': ['x'],\n",
        "            'b': ['y', 'yy'],\n",
        "            'c': ['z', 'zz', 'zzz']\n",
        "        }\n",
        "        cadeia = 'abc'\n",
        "        resultado = aplicar_substituicao(cadeia, substituicoes)\n",
        "        esperado = {'xyz', 'xyzz', 'xyzzz', 'xyyz', 'xyyzz', 'xyyzzz'}\n",
        "        self.assertEqual(set(resultado), esperado)\n",
        "\n",
        "    def test_com_caracteres_repetidos(self):\n",
        "        substituicoes = {\n",
        "            'a': ['0', '1'],\n",
        "            'b': ['x'],\n",
        "        }\n",
        "        cadeia = 'aab'\n",
        "        resultado = aplicar_substituicao(cadeia, substituicoes)\n",
        "        esperado = {\n",
        "            '00x', '01x', '10x', '11x'\n",
        "        }\n",
        "        self.assertEqual(set(resultado), esperado)\n",
        "\n",
        "    def test_unico_simbolo(self):\n",
        "        substituicoes = {'a': ['p', 'q', 'r']}\n",
        "        cadeia = 'a'\n",
        "        resultado = aplicar_substituicao(cadeia, substituicoes)\n",
        "        esperado = {'p', 'q', 'r'}\n",
        "        self.assertEqual(set(resultado), esperado)\n",
        "\n",
        "    def test_sem_substituicoes(self):\n",
        "        substituicoes = {}\n",
        "        cadeia = ''\n",
        "        resultado = aplicar_substituicao(cadeia, substituicoes)\n",
        "        self.assertEqual(resultado, [''])\n",
        "\n",
        "unittest.main(argv=[''], exit=False)\n"
      ]
    }
  ],
  "metadata": {
    "kernelspec": {
      "display_name": "moda",
      "language": "python",
      "name": "python3"
    },
    "language_info": {
      "codemirror_mode": {
        "name": "ipython",
        "version": 3
      },
      "file_extension": ".py",
      "mimetype": "text/x-python",
      "name": "python",
      "nbconvert_exporter": "python",
      "pygments_lexer": "ipython3",
      "version": "3.9.17"
    },
    "colab": {
      "provenance": []
    }
  },
  "nbformat": 4,
  "nbformat_minor": 0
}