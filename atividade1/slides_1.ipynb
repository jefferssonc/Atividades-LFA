{
  "cells": [
    {
      "cell_type": "markdown",
      "id": "567fcc95",
      "metadata": {
        "id": "567fcc95"
      },
      "source": [
        "<a href=\"https://colab.research.google.com/github/thalesvalente/teaching/blob/main/formal-languages-and-automata/1-lessons/slides-1.ipynb\" target=\"_parent\"><img src=\"https://colab.research.google.com/assets/colab-badge.svg\" alt=\"Open In Colab\"/></a>"
      ]
    },
    {
      "cell_type": "markdown",
      "id": "26b6f24e",
      "metadata": {
        "id": "26b6f24e"
      },
      "source": [
        "## Slide 3 - Conjuntos"
      ]
    },
    {
      "cell_type": "markdown",
      "id": "7fdd6ab7",
      "metadata": {
        "id": "7fdd6ab7"
      },
      "source": [
        "### 1. Listagem de Elementos de um Conjunto"
      ]
    },
    {
      "cell_type": "markdown",
      "id": "a4271d94",
      "metadata": {
        "id": "a4271d94"
      },
      "source": [
        "Como você pode representar o conjunto \\( V = \\{a, e, i, o, u\\} \\) em Python e imprimir seus elementos?"
      ]
    },
    {
      "cell_type": "code",
      "source": [
        "V = {'a', 'e', 'i', 'o', 'u'}\n",
        "print(\"Elementos do conjunto V:\", V)"
      ],
      "metadata": {
        "colab": {
          "base_uri": "https://localhost:8080/",
          "height": 0
        },
        "id": "9Ub77T_XVuZR",
        "outputId": "de4f7c36-b1c4-4126-f1d1-509a9ad26615"
      },
      "id": "9Ub77T_XVuZR",
      "execution_count": 1,
      "outputs": [
        {
          "output_type": "stream",
          "name": "stdout",
          "text": [
            "Elementos do conjunto V: {'e', 'i', 'u', 'a', 'o'}\n"
          ]
        }
      ]
    },
    {
      "cell_type": "markdown",
      "id": "46a8e18c",
      "metadata": {
        "id": "46a8e18c"
      },
      "source": [
        "### 2. Verificação de Elementos em um Conjunto"
      ]
    },
    {
      "cell_type": "markdown",
      "id": "f7d56248",
      "metadata": {
        "id": "f7d56248"
      },
      "source": [
        "Dado o conjunto \\( V = \\{a, e, i, o, u\\} \\), como você pode verificar se o elemento 'a' está presente em \\( V \\)?"
      ]
    },
    {
      "cell_type": "code",
      "source": [
        "print(\"'a' está em V?\", 'a' in V)"
      ],
      "metadata": {
        "colab": {
          "base_uri": "https://localhost:8080/",
          "height": 0
        },
        "id": "4mnehDzqV8MZ",
        "outputId": "d9e9552b-a722-40e1-8b43-5522ebd47c6b"
      },
      "id": "4mnehDzqV8MZ",
      "execution_count": 4,
      "outputs": [
        {
          "output_type": "stream",
          "name": "stdout",
          "text": [
            "'a' está em V? True\n"
          ]
        }
      ]
    },
    {
      "cell_type": "markdown",
      "id": "ac2be10a",
      "metadata": {
        "id": "ac2be10a"
      },
      "source": [
        "### 3. Criação de um Conjunto com Propriedades Específicas"
      ]
    },
    {
      "cell_type": "markdown",
      "id": "f9d47b61",
      "metadata": {
        "id": "f9d47b61"
      },
      "source": [
        "Como você pode criar um conjunto \\( B \\) em Python que contém todos os números inteiros pares maiores que 10 e menores que 20?"
      ]
    },
    {
      "cell_type": "code",
      "source": [
        "B = {x for x in range(11, 20) if x % 2 == 0}\n",
        "print(\"Conjunto B:\", B)"
      ],
      "metadata": {
        "colab": {
          "base_uri": "https://localhost:8080/",
          "height": 0
        },
        "id": "gcF8sSw8WG-x",
        "outputId": "9d2b61de-17d3-4690-8552-c64b0c5b4d19"
      },
      "id": "gcF8sSw8WG-x",
      "execution_count": 12,
      "outputs": [
        {
          "output_type": "stream",
          "name": "stdout",
          "text": [
            "Conjunto B: {16, 18, 12, 14}\n"
          ]
        }
      ]
    },
    {
      "cell_type": "markdown",
      "id": "ec6d4658",
      "metadata": {
        "id": "ec6d4658"
      },
      "source": [
        "### 4. Comparação de Conjuntos"
      ]
    },
    {
      "cell_type": "markdown",
      "id": "78217104",
      "metadata": {
        "id": "78217104"
      },
      "source": [
        "Se \\( V = \\{a, e, i, o, u\\} \\) e \\( C = \\{i, o, u\\} \\), como você pode verificar se todos os elementos de \\( C \\) também estão em \\( V \\)?"
      ]
    },
    {
      "cell_type": "code",
      "execution_count": 15,
      "id": "a30773e2",
      "metadata": {
        "colab": {
          "base_uri": "https://localhost:8080/",
          "height": 0
        },
        "id": "a30773e2",
        "outputId": "8c809e04-e5b5-4a98-ba96-1e425e31dd1f"
      },
      "outputs": [
        {
          "output_type": "stream",
          "name": "stdout",
          "text": [
            "Todos os elementos de C estão em V? True\n"
          ]
        }
      ],
      "source": [
        "V = {'a', 'e', 'i', 'o', 'u'}\n",
        "C = {'i', 'o', 'u'}\n",
        "print(\"Todos os elementos de C estão em V?\", C.issubset(V))"
      ]
    },
    {
      "cell_type": "markdown",
      "id": "22c427c9",
      "metadata": {
        "id": "22c427c9"
      },
      "source": [
        "### 5. Descrição de Conjuntos por Compreensão"
      ]
    },
    {
      "cell_type": "markdown",
      "id": "6c3e38ad",
      "metadata": {
        "id": "6c3e38ad"
      },
      "source": [
        "Como você pode representar um conjunto \\( D \\) em Python que contém todos os números inteiros de 1 a 10 que são divisíveis por 3?"
      ]
    },
    {
      "cell_type": "code",
      "source": [
        "D = {x for x in range(1, 11) if x % 3 == 0}\n",
        "print(\"Conjunto D:\", D)"
      ],
      "metadata": {
        "colab": {
          "base_uri": "https://localhost:8080/",
          "height": 0
        },
        "id": "7cO3LfBIWeUI",
        "outputId": "854b90a9-6e71-43c1-9ffb-09583ff33223"
      },
      "id": "7cO3LfBIWeUI",
      "execution_count": 16,
      "outputs": [
        {
          "output_type": "stream",
          "name": "stdout",
          "text": [
            "Conjunto D: {9, 3, 6}\n"
          ]
        }
      ]
    },
    {
      "cell_type": "markdown",
      "id": "0eb88007",
      "metadata": {
        "id": "0eb88007"
      },
      "source": [
        "### 6. União de Conjuntos"
      ]
    },
    {
      "cell_type": "markdown",
      "id": "dfba0c4d",
      "metadata": {
        "id": "dfba0c4d"
      },
      "source": [
        "Dados dois conjuntos \\( A = \\{1, 2, 3\\} \\) e \\( B = \\{3, 4, 5\\} \\), como você pode obter a união de \\( A \\) e \\( B \\)?"
      ]
    },
    {
      "cell_type": "code",
      "source": [
        "A = {1, 2, 3}\n",
        "B = {3, 4, 5}\n",
        "uniao = A.union(B)\n",
        "print(\"União de A e B:\", uniao)"
      ],
      "metadata": {
        "colab": {
          "base_uri": "https://localhost:8080/",
          "height": 0
        },
        "id": "CMZkd7ZjWiRg",
        "outputId": "ef4974a0-8626-443e-f4a7-545ddb44c66b"
      },
      "id": "CMZkd7ZjWiRg",
      "execution_count": 17,
      "outputs": [
        {
          "output_type": "stream",
          "name": "stdout",
          "text": [
            "União de A e B: {1, 2, 3, 4, 5}\n"
          ]
        }
      ]
    },
    {
      "cell_type": "markdown",
      "id": "9a400140",
      "metadata": {
        "id": "9a400140"
      },
      "source": [
        "### 7. Interseção de Conjuntos"
      ]
    },
    {
      "cell_type": "markdown",
      "id": "8e3747cf",
      "metadata": {
        "id": "8e3747cf"
      },
      "source": [
        "Dado os conjuntos \\( A = \\{1, 2, 3\\} \\) e \\( B = \\{3, 4, 5\\} \\), como você pode encontrar a interseção entre \\( A \\) e \\( B \\)?"
      ]
    },
    {
      "cell_type": "code",
      "source": [
        "A = {1, 2, 3}\n",
        "B = {3, 4, 5}\n",
        "intersecao = A.intersection(B)\n",
        "print(\"Interseção de A e B:\", intersecao)"
      ],
      "metadata": {
        "colab": {
          "base_uri": "https://localhost:8080/",
          "height": 0
        },
        "id": "049eQzqAWlL4",
        "outputId": "0a1ddd59-1219-4a94-c3d9-ba4c78af9e2e"
      },
      "id": "049eQzqAWlL4",
      "execution_count": 18,
      "outputs": [
        {
          "output_type": "stream",
          "name": "stdout",
          "text": [
            "Interseção de A e B: {3}\n"
          ]
        }
      ]
    },
    {
      "cell_type": "markdown",
      "id": "4df4ab79",
      "metadata": {
        "id": "4df4ab79"
      },
      "source": [
        "### 8. Diferença entre Conjuntos"
      ]
    },
    {
      "cell_type": "markdown",
      "id": "a3c6a086",
      "metadata": {
        "id": "a3c6a086"
      },
      "source": [
        "Como você pode determinar os elementos que estão em \\( A = \\{1, 2, 3\\} \\) mas não estão em \\( B = \\{3, 4, 5\\} \\)?"
      ]
    },
    {
      "cell_type": "code",
      "source": [
        "A = {1, 2, 3}\n",
        "B = {3, 4, 5}\n",
        "diferenca = A.difference(B)\n",
        "print(\"Elementos em A que não estão em B:\", diferenca)"
      ],
      "metadata": {
        "colab": {
          "base_uri": "https://localhost:8080/",
          "height": 0
        },
        "id": "Qdmg9CaqWpE4",
        "outputId": "b64567f1-b049-4906-cfee-d861d507e4ca"
      },
      "id": "Qdmg9CaqWpE4",
      "execution_count": 19,
      "outputs": [
        {
          "output_type": "stream",
          "name": "stdout",
          "text": [
            "Elementos em A que não estão em B: {1, 2}\n"
          ]
        }
      ]
    },
    {
      "cell_type": "markdown",
      "id": "033d1094",
      "metadata": {
        "id": "033d1094"
      },
      "source": [
        "### 9. Simetria de Diferença entre Conjuntos"
      ]
    },
    {
      "cell_type": "markdown",
      "id": "01b787d3",
      "metadata": {
        "id": "01b787d3"
      },
      "source": [
        "Se \\( A = \\{1, 2, 3\\} \\) e \\( B = \\{3, 4, 5\\} \\), como você pode obter a diferença simétrica entre \\( A \\) e \\( B \\)?"
      ]
    },
    {
      "cell_type": "code",
      "source": [
        "A = {1, 2, 3}\n",
        "B = {3, 4, 5}\n",
        "dif_simetrica = A.symmetric_difference(B)\n",
        "print(\"Diferença simétrica entre A e B:\", dif_simetrica)"
      ],
      "metadata": {
        "colab": {
          "base_uri": "https://localhost:8080/",
          "height": 0
        },
        "id": "c5cgbmX8WymY",
        "outputId": "f2300fdf-c4c4-4f82-cb37-4066b02dcdf9"
      },
      "id": "c5cgbmX8WymY",
      "execution_count": 20,
      "outputs": [
        {
          "output_type": "stream",
          "name": "stdout",
          "text": [
            "Diferença simétrica entre A e B: {1, 2, 4, 5}\n"
          ]
        }
      ]
    },
    {
      "cell_type": "markdown",
      "id": "38a8c34a",
      "metadata": {
        "id": "38a8c34a"
      },
      "source": [
        "### 10. Subconjuntos e Superconjuntos"
      ]
    },
    {
      "cell_type": "markdown",
      "id": "93b82754",
      "metadata": {
        "id": "93b82754"
      },
      "source": [
        "Dado \\( A = \\{1, 2, 3\\} \\) e \\( B = \\{1, 2, 3, 4, 5\\} \\), como você pode verificar se \\( A \\) é um subconjunto de \\( B \\) e se \\( B \\) é um superconjunto de \\( A \\)?"
      ]
    },
    {
      "cell_type": "code",
      "source": [
        "A = {1, 2, 3}\n",
        "B = {1, 2, 3, 4, 5}\n",
        "print(\"A é subconjunto de B?\", A.issubset(B))\n",
        "print(\"B é superconjunto de A?\", B.issuperset(A))"
      ],
      "metadata": {
        "colab": {
          "base_uri": "https://localhost:8080/",
          "height": 0
        },
        "id": "R9Dc2n1ZW11Q",
        "outputId": "9db01244-58d4-47fb-f6a4-229ece64220b"
      },
      "id": "R9Dc2n1ZW11Q",
      "execution_count": 21,
      "outputs": [
        {
          "output_type": "stream",
          "name": "stdout",
          "text": [
            "A é subconjunto de B? True\n",
            "B é superconjunto de A? True\n"
          ]
        }
      ]
    },
    {
      "cell_type": "markdown",
      "id": "5adb2849",
      "metadata": {
        "id": "5adb2849"
      },
      "source": [
        "### 11. Números Pares Maiores que 10"
      ]
    },
    {
      "cell_type": "markdown",
      "id": "61a8fdf2",
      "metadata": {
        "id": "61a8fdf2"
      },
      "source": [
        "$B = \\{x: x \\text{ é um número par}, x > 10\\}$"
      ]
    },
    {
      "cell_type": "code",
      "source": [
        "B = {x for x in range(11, 100) if x % 2 == 0}\n",
        "print(\"Conjunto B:\", B)"
      ],
      "metadata": {
        "colab": {
          "base_uri": "https://localhost:8080/",
          "height": 0
        },
        "id": "I9CZtWpMW62_",
        "outputId": "75612efc-932c-464c-d78e-695949fa6f59"
      },
      "id": "I9CZtWpMW62_",
      "execution_count": 23,
      "outputs": [
        {
          "output_type": "stream",
          "name": "stdout",
          "text": [
            "Conjunto B: {12, 14, 16, 18, 20, 22, 24, 26, 28, 30, 32, 34, 36, 38, 40, 42, 44, 46, 48, 50, 52, 54, 56, 58, 60, 62, 64, 66, 68, 70, 72, 74, 76, 78, 80, 82, 84, 86, 88, 90, 92, 94, 96, 98}\n"
          ]
        }
      ]
    },
    {
      "cell_type": "markdown",
      "id": "0b885c8c",
      "metadata": {
        "id": "0b885c8c"
      },
      "source": [
        "### 12. Números Primos Menores que 20"
      ]
    },
    {
      "cell_type": "markdown",
      "id": "c6a92c7f",
      "metadata": {
        "id": "c6a92c7f"
      },
      "source": [
        "$P = \\{x: x \\text{ é um número primo}, x < 20\\}$"
      ]
    },
    {
      "cell_type": "code",
      "execution_count": 24,
      "id": "bcf2c6a7",
      "metadata": {
        "colab": {
          "base_uri": "https://localhost:8080/",
          "height": 0
        },
        "id": "bcf2c6a7",
        "outputId": "3618074c-ff9d-42a8-8213-8f5acd510fe5"
      },
      "outputs": [
        {
          "output_type": "stream",
          "name": "stdout",
          "text": [
            "Conjunto P: {2, 3, 5, 7, 11, 13, 17, 19}\n"
          ]
        }
      ],
      "source": [
        "def is_prime(n):\n",
        "    if n <= 1:\n",
        "        return False\n",
        "    for i in range(2, int(n**0.5)+1):\n",
        "        if n % i == 0:\n",
        "            return False\n",
        "    return True\n",
        "\n",
        "P = {x for x in range(2, 20) if is_prime(x)}\n",
        "print(\"Conjunto P:\", P)"
      ]
    },
    {
      "cell_type": "markdown",
      "id": "4900f347",
      "metadata": {
        "id": "4900f347"
      },
      "source": [
        "### 13. Números Ímpares Divisíveis por 3 até 30"
      ]
    },
    {
      "cell_type": "markdown",
      "id": "03f6e58b",
      "metadata": {
        "id": "03f6e58b"
      },
      "source": [
        "$I = \\{x: x \\text{ é um número ímpar divisível por 3}, x \\leq 30\\}$"
      ]
    },
    {
      "cell_type": "code",
      "execution_count": 25,
      "id": "27d3df91",
      "metadata": {
        "colab": {
          "base_uri": "https://localhost:8080/",
          "height": 0
        },
        "id": "27d3df91",
        "outputId": "ff5e056c-1793-42a7-fc20-b5f973da6991"
      },
      "outputs": [
        {
          "output_type": "stream",
          "name": "stdout",
          "text": [
            "Conjunto I: {3, 9, 15, 21, 27}\n"
          ]
        }
      ],
      "source": [
        "I = {x for x in range(1, 31) if x % 2 != 0 and x % 3 == 0}\n",
        "print(\"Conjunto I:\", I)"
      ]
    },
    {
      "cell_type": "markdown",
      "id": "1b59cfb2",
      "metadata": {
        "id": "1b59cfb2"
      },
      "source": [
        "### 14. Quadrados Perfeitos Menores que 100"
      ]
    },
    {
      "cell_type": "markdown",
      "id": "5aa137a8",
      "metadata": {
        "id": "5aa137a8"
      },
      "source": [
        "$Q = \\{x^2: x \\text{ é um número inteiro}, x^2 < 100\\}$"
      ]
    },
    {
      "cell_type": "code",
      "execution_count": 26,
      "id": "9babd356",
      "metadata": {
        "colab": {
          "base_uri": "https://localhost:8080/",
          "height": 0
        },
        "id": "9babd356",
        "outputId": "6fe88da7-dd4b-4a27-fd52-a1b0ee27eda0"
      },
      "outputs": [
        {
          "output_type": "stream",
          "name": "stdout",
          "text": [
            "Conjunto Q: {64, 1, 0, 36, 4, 9, 16, 81, 49, 25}\n"
          ]
        }
      ],
      "source": [
        "Q = {x**2 for x in range(-10, 10) if x**2 < 100}\n",
        "print(\"Conjunto Q:\", Q)"
      ]
    },
    {
      "cell_type": "markdown",
      "id": "bfd210f6",
      "metadata": {
        "id": "bfd210f6"
      },
      "source": [
        "### 15. Múltiplos de 5 entre 10 e 50"
      ]
    },
    {
      "cell_type": "markdown",
      "id": "693f03bb",
      "metadata": {
        "id": "693f03bb"
      },
      "source": [
        "$M = \\{x: x \\text{ é um múltiplo de 5}, 10 < x < 50\\}$"
      ]
    },
    {
      "cell_type": "code",
      "execution_count": 27,
      "id": "6319096a",
      "metadata": {
        "colab": {
          "base_uri": "https://localhost:8080/",
          "height": 0
        },
        "id": "6319096a",
        "outputId": "cb2113b3-2fe3-4cd8-9151-c61f12012025"
      },
      "outputs": [
        {
          "output_type": "stream",
          "name": "stdout",
          "text": [
            "Conjunto M: {35, 40, 45, 15, 20, 25, 30}\n"
          ]
        }
      ],
      "source": [
        "M = {x for x in range(11, 50) if x % 5 == 0}\n",
        "print(\"Conjunto M:\", M)"
      ]
    },
    {
      "cell_type": "markdown",
      "id": "ba5fb52c",
      "metadata": {
        "id": "ba5fb52c"
      },
      "source": [
        "### 15. Subconjunto próprio e não próprio"
      ]
    },
    {
      "cell_type": "markdown",
      "id": "29be48e6",
      "metadata": {
        "id": "29be48e6"
      },
      "source": [
        "Dados dois conjunto em caa um dos cenários abaixo, escreva um script em python para verificar:\n",
        "- se A é subconjunto de B e se C é subconjunto próprio de D\n",
        "- Gerar um diagrama de Venn que ilustre as relações entre os conjuntos em cada um dos cenários\n",
        "- Explicar porque o diagrama pode mostrar \"0\"e o que isso significa em termos dos elementos dos conjuntos.\n",
        "\n",
        "**Cenário 1**\n",
        "- Considere \\( A = \\{1, 2\\} \\) e \\( B = \\{1, 2, 3\\} \\).\n",
        "\n",
        "**Cenário 2**\n",
        "- Considere \\( C = \\{1, 2, 3\\} \\) e \\( D = \\{1, 2, 3\\} \\).\n"
      ]
    },
    {
      "cell_type": "code",
      "execution_count": null,
      "id": "44aa9dff",
      "metadata": {
        "id": "44aa9dff",
        "outputId": "ef863208-1fc8-47d1-90f1-3d4826e2f220"
      },
      "outputs": [
        {
          "name": "stdout",
          "output_type": "stream",
          "text": [
            "A é subconjunto próprio de B: True\n",
            "C é subconjunto não próprio (igual) de D: True\n"
          ]
        },
        {
          "data": {
            "image/png": "[encoded data removed]",
            "text/plain": [
              "<Figure size 1200x600 with 2 Axes>"
            ]
          },
          "metadata": {},
          "output_type": "display_data"
        }
      ],
      "source": [
        "import matplotlib.pyplot as plt\n",
        "from matplotlib_venn import venn2\n",
        "\n",
        "# Definindo os conjuntos\n",
        "A = {1, 2}\n",
        "B = {1, 2, 3}\n",
        "C = {1, 2, 3}\n",
        "D = {1, 2, 3}\n",
        "\n",
        "# Verificando subconjunto próprio\n",
        "is_subset_proper_A_B = A < B\n",
        "print(f\"A é subconjunto próprio de B: {is_subset_proper_A_B}\")\n",
        "\n",
        "# Verificando subconjunto não próprio\n",
        "is_subset_C_D = C.issubset(D) and C == D\n",
        "print(f\"C é subconjunto não próprio (igual) de D: {is_subset_C_D}\")\n",
        "\n",
        "# Gerando diagrama de Venn para subconjunto próprio\n",
        "plt.figure(figsize=(12, 6))\n",
        "plt.subplot(1, 2, 1)\n",
        "venn2([A, B], ('A', 'B'))\n",
        "plt.title(\"A é subconjunto próprio de B\")\n",
        "\n",
        "# Gerando diagrama de Venn para subconjunto não próprio\n",
        "plt.subplot(1, 2, 2)\n",
        "venn2([C, D], ('C', 'D'))\n",
        "plt.title(\"C é subconjunto não próprio (igual) de D\")\n",
        "\n",
        "plt.show()"
      ]
    }
  ],
  "metadata": {
    "kernelspec": {
      "display_name": "moda",
      "language": "python",
      "name": "python3"
    },
    "language_info": {
      "codemirror_mode": {
        "name": "ipython",
        "version": 3
      },
      "file_extension": ".py",
      "mimetype": "text/x-python",
      "name": "python",
      "nbconvert_exporter": "python",
      "pygments_lexer": "ipython3",
      "version": "3.9.17"
    },
    "colab": {
      "provenance": [],
      "collapsed_sections": [
        "7fdd6ab7"
      ]
    }
  },
  "nbformat": 4,
  "nbformat_minor": 5
}